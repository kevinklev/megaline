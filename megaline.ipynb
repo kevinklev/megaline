{
 "cells": [
  {
   "cell_type": "markdown",
   "metadata": {},
   "source": [
    "# Problem Statement: Surf and  Ultimate, which is the better plan?\n",
    "\n",
    "\n",
    "I work as an analyst for the telecom operator Megaline. The company has two prepaid plans, Surf and Ultimate, and the commercial department is keen on understanding which of these plans generates more revenue to optimize their advertising budget.\n",
    "\n",
    "I am tasked with a preliminary analysis based on a sample of 500 Megaline clients. This analysis will include details about the clients, such as their demographics, the prepaid plan they are using, and their usage statistics in terms of calls made and text messages sent during the year 2018. My objective is to examine the clients' behavior and identify which prepaid plan is more profitable for Megaline."
   ]
  },
  {
   "cell_type": "markdown",
   "metadata": {},
   "source": [
    "# Table of Contents: <a id = 'back'></a>\n",
    "\n",
    "* [1.Loading and Cleaning Data](#prep) \n",
    "* [2.Exploratory Data Analysis](#explore)\n",
    "* [3.Testing Statistical Hypotheses](#test)\n",
    "* [4.Conclusion](#end)"
   ]
  },
  {
   "cell_type": "markdown",
   "metadata": {},
   "source": [
    "## Initialization"
   ]
  },
  {
   "cell_type": "markdown",
   "metadata": {},
   "source": []
  },
  {
   "cell_type": "code",
   "execution_count": 1,
   "metadata": {},
   "outputs": [
    {
     "name": "stderr",
     "output_type": "stream",
     "text": [
      "/Users/kevinklev/opt/anaconda3/lib/python3.9/site-packages/scipy/__init__.py:146: UserWarning: A NumPy version >=1.16.5 and <1.23.0 is required for this version of SciPy (detected version 1.26.2\n",
      "  warnings.warn(f\"A NumPy version >={np_minversion} and <{np_maxversion}\"\n"
     ]
    }
   ],
   "source": [
    "import pandas as pd \n",
    "import numpy as np \n",
    "from matplotlib import pyplot as plt \n",
    "from math import factorial \n",
    "from scipy import stats as st\n",
    "import math as mt\n",
    "import matplotlib.dates as mdates\n"
   ]
  },
  {
   "cell_type": "markdown",
   "metadata": {},
   "source": [
    "## Loading and Cleaning Data <a id = 'prep'></a>"
   ]
  },
  {
   "cell_type": "code",
   "execution_count": 18,
   "metadata": {},
   "outputs": [],
   "source": [
    "# loading data sets\n",
    "try: \n",
    "    calls_df = pd.read_csv('megaline/megaline_calls.csv')\n",
    "    int_df = pd.read_csv('megaline/megaline_internet.csv')\n",
    "    mess_df = pd.read_csv('megaline/megaline_messages.csv')\n",
    "    plans_df = pd.read_csv('megaline/megaline_plans.csv')\n",
    "    users_df = pd.read_csv('megaline/megaline_users.csv')\n",
    "\n",
    "except:\n",
    "    calls_df = pd.read_csv('project_git/megaline/megaline_calls.csv')\n",
    "    int_df = pd.read_csv('project_git/megaline/megaline_internet.csv')\n",
    "    mess_df = pd.read_csv('project_git/megaline/megaline_messages.csv')\n",
    "    plans_df = pd.read_csv('project_git/megaline/megaline_plans.csv')\n",
    "    users_df = pd.read_csv('project_git/megaline/megaline_users.csv')"
   ]
  },
  {
   "cell_type": "markdown",
   "metadata": {},
   "source": [
    "## Plans Dataframe"
   ]
  },
  {
   "cell_type": "code",
   "execution_count": 19,
   "metadata": {},
   "outputs": [
    {
     "name": "stdout",
     "output_type": "stream",
     "text": [
      "<class 'pandas.core.frame.DataFrame'>\n",
      "RangeIndex: 2 entries, 0 to 1\n",
      "Data columns (total 8 columns):\n",
      " #   Column                 Non-Null Count  Dtype  \n",
      "---  ------                 --------------  -----  \n",
      " 0   messages_included      2 non-null      int64  \n",
      " 1   mb_per_month_included  2 non-null      int64  \n",
      " 2   minutes_included       2 non-null      int64  \n",
      " 3   usd_monthly_pay        2 non-null      int64  \n",
      " 4   usd_per_gb             2 non-null      int64  \n",
      " 5   usd_per_message        2 non-null      float64\n",
      " 6   usd_per_minute         2 non-null      float64\n",
      " 7   plan_name              2 non-null      object \n",
      "dtypes: float64(2), int64(5), object(1)\n",
      "memory usage: 256.0+ bytes\n"
     ]
    },
    {
     "data": {
      "text/html": [
       "<div>\n",
       "<style scoped>\n",
       "    .dataframe tbody tr th:only-of-type {\n",
       "        vertical-align: middle;\n",
       "    }\n",
       "\n",
       "    .dataframe tbody tr th {\n",
       "        vertical-align: top;\n",
       "    }\n",
       "\n",
       "    .dataframe thead th {\n",
       "        text-align: right;\n",
       "    }\n",
       "</style>\n",
       "<table border=\"1\" class=\"dataframe\">\n",
       "  <thead>\n",
       "    <tr style=\"text-align: right;\">\n",
       "      <th></th>\n",
       "      <th>messages_included</th>\n",
       "      <th>mb_per_month_included</th>\n",
       "      <th>minutes_included</th>\n",
       "      <th>usd_monthly_pay</th>\n",
       "      <th>usd_per_gb</th>\n",
       "      <th>usd_per_message</th>\n",
       "      <th>usd_per_minute</th>\n",
       "      <th>plan_name</th>\n",
       "    </tr>\n",
       "  </thead>\n",
       "  <tbody>\n",
       "    <tr>\n",
       "      <th>0</th>\n",
       "      <td>50</td>\n",
       "      <td>15360</td>\n",
       "      <td>500</td>\n",
       "      <td>20</td>\n",
       "      <td>10</td>\n",
       "      <td>0.03</td>\n",
       "      <td>0.03</td>\n",
       "      <td>surf</td>\n",
       "    </tr>\n",
       "    <tr>\n",
       "      <th>1</th>\n",
       "      <td>1000</td>\n",
       "      <td>30720</td>\n",
       "      <td>3000</td>\n",
       "      <td>70</td>\n",
       "      <td>7</td>\n",
       "      <td>0.01</td>\n",
       "      <td>0.01</td>\n",
       "      <td>ultimate</td>\n",
       "    </tr>\n",
       "  </tbody>\n",
       "</table>\n",
       "</div>"
      ],
      "text/plain": [
       "   messages_included  mb_per_month_included  minutes_included  \\\n",
       "0                 50                  15360               500   \n",
       "1               1000                  30720              3000   \n",
       "\n",
       "   usd_monthly_pay  usd_per_gb  usd_per_message  usd_per_minute plan_name  \n",
       "0               20          10             0.03            0.03      surf  \n",
       "1               70           7             0.01            0.01  ultimate  "
      ]
     },
     "execution_count": 19,
     "metadata": {},
     "output_type": "execute_result"
    }
   ],
   "source": [
    "# looking at plans_df general info\n",
    "plans_df.info()\n",
    "plans_df.head()"
   ]
  },
  {
   "cell_type": "markdown",
   "metadata": {},
   "source": [
    "Pretty straightforward. Data looks good to go here for the most part. Going to change the names of the messag/minute/gb columns to indicate that these are values for any overages. "
   ]
  },
  {
   "cell_type": "markdown",
   "metadata": {},
   "source": [
    " "
   ]
  },
  {
   "cell_type": "code",
   "execution_count": 63,
   "metadata": {},
   "outputs": [
    {
     "data": {
      "text/html": [
       "<div>\n",
       "<style scoped>\n",
       "    .dataframe tbody tr th:only-of-type {\n",
       "        vertical-align: middle;\n",
       "    }\n",
       "\n",
       "    .dataframe tbody tr th {\n",
       "        vertical-align: top;\n",
       "    }\n",
       "\n",
       "    .dataframe thead th {\n",
       "        text-align: right;\n",
       "    }\n",
       "</style>\n",
       "<table border=\"1\" class=\"dataframe\">\n",
       "  <thead>\n",
       "    <tr style=\"text-align: right;\">\n",
       "      <th></th>\n",
       "      <th>plan</th>\n",
       "      <th>messages_per_month_included</th>\n",
       "      <th>mb_per_month_included</th>\n",
       "      <th>minutes_per_month_included</th>\n",
       "      <th>usd_monthly_pay</th>\n",
       "      <th>usd_per_gb_overage</th>\n",
       "      <th>usd_per_message_overage</th>\n",
       "      <th>usd_per_minute_overage</th>\n",
       "    </tr>\n",
       "  </thead>\n",
       "  <tbody>\n",
       "    <tr>\n",
       "      <th>0</th>\n",
       "      <td>surf</td>\n",
       "      <td>50</td>\n",
       "      <td>15360</td>\n",
       "      <td>500</td>\n",
       "      <td>20</td>\n",
       "      <td>10</td>\n",
       "      <td>0.03</td>\n",
       "      <td>0.03</td>\n",
       "    </tr>\n",
       "    <tr>\n",
       "      <th>1</th>\n",
       "      <td>ultimate</td>\n",
       "      <td>1000</td>\n",
       "      <td>30720</td>\n",
       "      <td>3000</td>\n",
       "      <td>70</td>\n",
       "      <td>7</td>\n",
       "      <td>0.01</td>\n",
       "      <td>0.01</td>\n",
       "    </tr>\n",
       "  </tbody>\n",
       "</table>\n",
       "</div>"
      ],
      "text/plain": [
       "       plan  messages_per_month_included  mb_per_month_included  \\\n",
       "0      surf                           50                  15360   \n",
       "1  ultimate                         1000                  30720   \n",
       "\n",
       "   minutes_per_month_included  usd_monthly_pay  usd_per_gb_overage  \\\n",
       "0                         500               20                  10   \n",
       "1                        3000               70                   7   \n",
       "\n",
       "   usd_per_message_overage  usd_per_minute_overage  \n",
       "0                     0.03                    0.03  \n",
       "1                     0.01                    0.01  "
      ]
     },
     "execution_count": 63,
     "metadata": {},
     "output_type": "execute_result"
    }
   ],
   "source": [
    "# changing names of columns to ones i find a bit more fitting\n",
    "plans_df.rename(columns = {'messages_included':'messages_per_month_included',\n",
    "                           'plan_name':'plan',\n",
    "                           'minutes_included': 'minutes_per_month_included', \n",
    "                           'usd_per_gb':'usd_per_gb_overage', \n",
    "                           'usd_per_message':'usd_per_message_overage', \n",
    "                           'usd_per_minute':'usd_per_minute_overage'},\n",
    "               inplace = True)\n",
    "plans_df"
   ]
  },
  {
   "cell_type": "code",
   "execution_count": 21,
   "metadata": {
    "scrolled": true
   },
   "outputs": [],
   "source": [
    "# plalcing plan names at front of dataframe\n",
    "plans_df.set_index('plan_name', inplace = True)\n",
    "plans_df.reset_index(inplace = True)"
   ]
  },
  {
   "cell_type": "markdown",
   "metadata": {},
   "source": [
    "## Users Dataframe"
   ]
  },
  {
   "cell_type": "code",
   "execution_count": 22,
   "metadata": {},
   "outputs": [
    {
     "name": "stdout",
     "output_type": "stream",
     "text": [
      "<class 'pandas.core.frame.DataFrame'>\n",
      "RangeIndex: 500 entries, 0 to 499\n",
      "Data columns (total 8 columns):\n",
      " #   Column      Non-Null Count  Dtype \n",
      "---  ------      --------------  ----- \n",
      " 0   user_id     500 non-null    int64 \n",
      " 1   first_name  500 non-null    object\n",
      " 2   last_name   500 non-null    object\n",
      " 3   age         500 non-null    int64 \n",
      " 4   city        500 non-null    object\n",
      " 5   reg_date    500 non-null    object\n",
      " 6   plan        500 non-null    object\n",
      " 7   churn_date  34 non-null     object\n",
      "dtypes: int64(2), object(6)\n",
      "memory usage: 31.4+ KB\n"
     ]
    },
    {
     "data": {
      "text/html": [
       "<div>\n",
       "<style scoped>\n",
       "    .dataframe tbody tr th:only-of-type {\n",
       "        vertical-align: middle;\n",
       "    }\n",
       "\n",
       "    .dataframe tbody tr th {\n",
       "        vertical-align: top;\n",
       "    }\n",
       "\n",
       "    .dataframe thead th {\n",
       "        text-align: right;\n",
       "    }\n",
       "</style>\n",
       "<table border=\"1\" class=\"dataframe\">\n",
       "  <thead>\n",
       "    <tr style=\"text-align: right;\">\n",
       "      <th></th>\n",
       "      <th>user_id</th>\n",
       "      <th>first_name</th>\n",
       "      <th>last_name</th>\n",
       "      <th>age</th>\n",
       "      <th>city</th>\n",
       "      <th>reg_date</th>\n",
       "      <th>plan</th>\n",
       "      <th>churn_date</th>\n",
       "    </tr>\n",
       "  </thead>\n",
       "  <tbody>\n",
       "    <tr>\n",
       "      <th>0</th>\n",
       "      <td>1000</td>\n",
       "      <td>Anamaria</td>\n",
       "      <td>Bauer</td>\n",
       "      <td>45</td>\n",
       "      <td>Atlanta-Sandy Springs-Roswell, GA MSA</td>\n",
       "      <td>2018-12-24</td>\n",
       "      <td>ultimate</td>\n",
       "      <td>NaN</td>\n",
       "    </tr>\n",
       "    <tr>\n",
       "      <th>1</th>\n",
       "      <td>1001</td>\n",
       "      <td>Mickey</td>\n",
       "      <td>Wilkerson</td>\n",
       "      <td>28</td>\n",
       "      <td>Seattle-Tacoma-Bellevue, WA MSA</td>\n",
       "      <td>2018-08-13</td>\n",
       "      <td>surf</td>\n",
       "      <td>NaN</td>\n",
       "    </tr>\n",
       "    <tr>\n",
       "      <th>2</th>\n",
       "      <td>1002</td>\n",
       "      <td>Carlee</td>\n",
       "      <td>Hoffman</td>\n",
       "      <td>36</td>\n",
       "      <td>Las Vegas-Henderson-Paradise, NV MSA</td>\n",
       "      <td>2018-10-21</td>\n",
       "      <td>surf</td>\n",
       "      <td>NaN</td>\n",
       "    </tr>\n",
       "    <tr>\n",
       "      <th>3</th>\n",
       "      <td>1003</td>\n",
       "      <td>Reynaldo</td>\n",
       "      <td>Jenkins</td>\n",
       "      <td>52</td>\n",
       "      <td>Tulsa, OK MSA</td>\n",
       "      <td>2018-01-28</td>\n",
       "      <td>surf</td>\n",
       "      <td>NaN</td>\n",
       "    </tr>\n",
       "    <tr>\n",
       "      <th>4</th>\n",
       "      <td>1004</td>\n",
       "      <td>Leonila</td>\n",
       "      <td>Thompson</td>\n",
       "      <td>40</td>\n",
       "      <td>Seattle-Tacoma-Bellevue, WA MSA</td>\n",
       "      <td>2018-05-23</td>\n",
       "      <td>surf</td>\n",
       "      <td>NaN</td>\n",
       "    </tr>\n",
       "  </tbody>\n",
       "</table>\n",
       "</div>"
      ],
      "text/plain": [
       "   user_id first_name  last_name  age                                   city  \\\n",
       "0     1000   Anamaria      Bauer   45  Atlanta-Sandy Springs-Roswell, GA MSA   \n",
       "1     1001     Mickey  Wilkerson   28        Seattle-Tacoma-Bellevue, WA MSA   \n",
       "2     1002     Carlee    Hoffman   36   Las Vegas-Henderson-Paradise, NV MSA   \n",
       "3     1003   Reynaldo    Jenkins   52                          Tulsa, OK MSA   \n",
       "4     1004    Leonila   Thompson   40        Seattle-Tacoma-Bellevue, WA MSA   \n",
       "\n",
       "     reg_date      plan churn_date  \n",
       "0  2018-12-24  ultimate        NaN  \n",
       "1  2018-08-13      surf        NaN  \n",
       "2  2018-10-21      surf        NaN  \n",
       "3  2018-01-28      surf        NaN  \n",
       "4  2018-05-23      surf        NaN  "
      ]
     },
     "metadata": {},
     "output_type": "display_data"
    },
    {
     "data": {
      "text/html": [
       "<div>\n",
       "<style scoped>\n",
       "    .dataframe tbody tr th:only-of-type {\n",
       "        vertical-align: middle;\n",
       "    }\n",
       "\n",
       "    .dataframe tbody tr th {\n",
       "        vertical-align: top;\n",
       "    }\n",
       "\n",
       "    .dataframe thead th {\n",
       "        text-align: right;\n",
       "    }\n",
       "</style>\n",
       "<table border=\"1\" class=\"dataframe\">\n",
       "  <thead>\n",
       "    <tr style=\"text-align: right;\">\n",
       "      <th></th>\n",
       "      <th>user_id</th>\n",
       "      <th>first_name</th>\n",
       "      <th>last_name</th>\n",
       "      <th>age</th>\n",
       "      <th>city</th>\n",
       "      <th>reg_date</th>\n",
       "      <th>plan</th>\n",
       "      <th>churn_date</th>\n",
       "    </tr>\n",
       "  </thead>\n",
       "  <tbody>\n",
       "    <tr>\n",
       "      <th>210</th>\n",
       "      <td>1210</td>\n",
       "      <td>Shanae</td>\n",
       "      <td>Carrillo</td>\n",
       "      <td>30</td>\n",
       "      <td>Oklahoma City, OK MSA</td>\n",
       "      <td>2018-06-01</td>\n",
       "      <td>surf</td>\n",
       "      <td>NaN</td>\n",
       "    </tr>\n",
       "    <tr>\n",
       "      <th>434</th>\n",
       "      <td>1434</td>\n",
       "      <td>Kai</td>\n",
       "      <td>Barr</td>\n",
       "      <td>18</td>\n",
       "      <td>New York-Newark-Jersey City, NY-NJ-PA MSA</td>\n",
       "      <td>2018-03-06</td>\n",
       "      <td>surf</td>\n",
       "      <td>NaN</td>\n",
       "    </tr>\n",
       "    <tr>\n",
       "      <th>247</th>\n",
       "      <td>1247</td>\n",
       "      <td>Marion</td>\n",
       "      <td>Singleton</td>\n",
       "      <td>75</td>\n",
       "      <td>Los Angeles-Long Beach-Anaheim, CA MSA</td>\n",
       "      <td>2018-04-12</td>\n",
       "      <td>ultimate</td>\n",
       "      <td>NaN</td>\n",
       "    </tr>\n",
       "    <tr>\n",
       "      <th>335</th>\n",
       "      <td>1335</td>\n",
       "      <td>Gail</td>\n",
       "      <td>Coleman</td>\n",
       "      <td>61</td>\n",
       "      <td>Dallas-Fort Worth-Arlington, TX MSA</td>\n",
       "      <td>2018-06-02</td>\n",
       "      <td>surf</td>\n",
       "      <td>NaN</td>\n",
       "    </tr>\n",
       "    <tr>\n",
       "      <th>11</th>\n",
       "      <td>1011</td>\n",
       "      <td>Halina</td>\n",
       "      <td>Henry</td>\n",
       "      <td>73</td>\n",
       "      <td>Cleveland-Elyria, OH MSA</td>\n",
       "      <td>2018-01-18</td>\n",
       "      <td>ultimate</td>\n",
       "      <td>NaN</td>\n",
       "    </tr>\n",
       "  </tbody>\n",
       "</table>\n",
       "</div>"
      ],
      "text/plain": [
       "     user_id first_name  last_name  age  \\\n",
       "210     1210     Shanae   Carrillo   30   \n",
       "434     1434        Kai       Barr   18   \n",
       "247     1247     Marion  Singleton   75   \n",
       "335     1335       Gail    Coleman   61   \n",
       "11      1011     Halina      Henry   73   \n",
       "\n",
       "                                          city    reg_date      plan  \\\n",
       "210                      Oklahoma City, OK MSA  2018-06-01      surf   \n",
       "434  New York-Newark-Jersey City, NY-NJ-PA MSA  2018-03-06      surf   \n",
       "247     Los Angeles-Long Beach-Anaheim, CA MSA  2018-04-12  ultimate   \n",
       "335        Dallas-Fort Worth-Arlington, TX MSA  2018-06-02      surf   \n",
       "11                    Cleveland-Elyria, OH MSA  2018-01-18  ultimate   \n",
       "\n",
       "    churn_date  \n",
       "210        NaN  \n",
       "434        NaN  \n",
       "247        NaN  \n",
       "335        NaN  \n",
       "11         NaN  "
      ]
     },
     "execution_count": 22,
     "metadata": {},
     "output_type": "execute_result"
    }
   ],
   "source": [
    "users_df.info()\n",
    "display(users_df.head(5))\n",
    "users_df.sample(5)\n",
    "\n"
   ]
  },
  {
   "cell_type": "markdown",
   "metadata": {},
   "source": [
    "General observations:\n",
    "    \n",
    "    -user_id needs to be changed to an object \n",
    "    \n",
    "    -reg_date and churn_date need to be changed to datetime objects \n",
    "    \n",
    "    -makes sense that there are so few values in the churn date column given most accounts were active \n",
    "    throughout the year\n",
    "\n",
    "    - going to rename city column and remove MSA - more representative of the data \n"
   ]
  },
  {
   "cell_type": "markdown",
   "metadata": {},
   "source": [
    " "
   ]
  },
  {
   "cell_type": "code",
   "execution_count": 23,
   "metadata": {},
   "outputs": [
    {
     "data": {
      "text/plain": [
       "user_id               object\n",
       "first_name            object\n",
       "last_name             object\n",
       "age                    int64\n",
       "city                  object\n",
       "reg_date      datetime64[ns]\n",
       "plan                  object\n",
       "churn_date    datetime64[ns]\n",
       "dtype: object"
      ]
     },
     "execution_count": 23,
     "metadata": {},
     "output_type": "execute_result"
    }
   ],
   "source": [
    "# converting the the proper data types\n",
    "\n",
    "users_df['user_id'] = users_df['user_id'].astype('object')\n",
    "users_df['reg_date']= pd.to_datetime(users_df['reg_date'], format= '%Y-%m-%d')\n",
    "users_df['churn_date']= pd.to_datetime(users_df['churn_date'], format= '%Y-%m-%d', errors = 'coerce')\n",
    "\n",
    "users_df.dtypes"
   ]
  },
  {
   "cell_type": "code",
   "execution_count": 24,
   "metadata": {},
   "outputs": [
    {
     "name": "stdout",
     "output_type": "stream",
     "text": [
      "Duplicates: 0\n",
      "Missing values: user_id         0\n",
      "first_name      0\n",
      "last_name       0\n",
      "age             0\n",
      "city            0\n",
      "reg_date        0\n",
      "plan            0\n",
      "churn_date    466\n",
      "dtype: int64\n"
     ]
    }
   ],
   "source": [
    "# addressing duplicate and null values\n",
    "print('Duplicates: {}'.format(users_df[['user_id','first_name', 'last_name']].duplicated().sum()))\n",
    "print('Missing values: {}'.format(users_df.isna().sum()))\n",
    "\n"
   ]
  },
  {
   "cell_type": "code",
   "execution_count": 25,
   "metadata": {},
   "outputs": [],
   "source": [
    "# dropping churn_date column\n",
    "users_df.drop('churn_date', inplace = True, axis = 1)"
   ]
  },
  {
   "cell_type": "code",
   "execution_count": 26,
   "metadata": {},
   "outputs": [],
   "source": [
    "# dropping city column and creating msa column\n",
    "msa = []\n",
    "\n",
    "for i in users_df['city']:\n",
    "    split = i.split(' ')[0:-1]\n",
    "    area = ' '.join(split)\n",
    "    msa.append(area)\n",
    "    \n",
    "users_df['msa'] = msa\n"
   ]
  },
  {
   "cell_type": "code",
   "execution_count": 27,
   "metadata": {},
   "outputs": [
    {
     "data": {
      "text/html": [
       "<div>\n",
       "<style scoped>\n",
       "    .dataframe tbody tr th:only-of-type {\n",
       "        vertical-align: middle;\n",
       "    }\n",
       "\n",
       "    .dataframe tbody tr th {\n",
       "        vertical-align: top;\n",
       "    }\n",
       "\n",
       "    .dataframe thead th {\n",
       "        text-align: right;\n",
       "    }\n",
       "</style>\n",
       "<table border=\"1\" class=\"dataframe\">\n",
       "  <thead>\n",
       "    <tr style=\"text-align: right;\">\n",
       "      <th></th>\n",
       "      <th>user_id</th>\n",
       "      <th>first_name</th>\n",
       "      <th>last_name</th>\n",
       "      <th>age</th>\n",
       "      <th>city</th>\n",
       "      <th>reg_date</th>\n",
       "      <th>plan</th>\n",
       "      <th>msa</th>\n",
       "    </tr>\n",
       "  </thead>\n",
       "  <tbody>\n",
       "    <tr>\n",
       "      <th>0</th>\n",
       "      <td>1000</td>\n",
       "      <td>Anamaria</td>\n",
       "      <td>Bauer</td>\n",
       "      <td>45</td>\n",
       "      <td>Atlanta-Sandy Springs-Roswell, GA MSA</td>\n",
       "      <td>2018-12-24</td>\n",
       "      <td>ultimate</td>\n",
       "      <td>Atlanta-Sandy Springs-Roswell, GA</td>\n",
       "    </tr>\n",
       "    <tr>\n",
       "      <th>1</th>\n",
       "      <td>1001</td>\n",
       "      <td>Mickey</td>\n",
       "      <td>Wilkerson</td>\n",
       "      <td>28</td>\n",
       "      <td>Seattle-Tacoma-Bellevue, WA MSA</td>\n",
       "      <td>2018-08-13</td>\n",
       "      <td>surf</td>\n",
       "      <td>Seattle-Tacoma-Bellevue, WA</td>\n",
       "    </tr>\n",
       "    <tr>\n",
       "      <th>2</th>\n",
       "      <td>1002</td>\n",
       "      <td>Carlee</td>\n",
       "      <td>Hoffman</td>\n",
       "      <td>36</td>\n",
       "      <td>Las Vegas-Henderson-Paradise, NV MSA</td>\n",
       "      <td>2018-10-21</td>\n",
       "      <td>surf</td>\n",
       "      <td>Las Vegas-Henderson-Paradise, NV</td>\n",
       "    </tr>\n",
       "    <tr>\n",
       "      <th>3</th>\n",
       "      <td>1003</td>\n",
       "      <td>Reynaldo</td>\n",
       "      <td>Jenkins</td>\n",
       "      <td>52</td>\n",
       "      <td>Tulsa, OK MSA</td>\n",
       "      <td>2018-01-28</td>\n",
       "      <td>surf</td>\n",
       "      <td>Tulsa, OK</td>\n",
       "    </tr>\n",
       "    <tr>\n",
       "      <th>4</th>\n",
       "      <td>1004</td>\n",
       "      <td>Leonila</td>\n",
       "      <td>Thompson</td>\n",
       "      <td>40</td>\n",
       "      <td>Seattle-Tacoma-Bellevue, WA MSA</td>\n",
       "      <td>2018-05-23</td>\n",
       "      <td>surf</td>\n",
       "      <td>Seattle-Tacoma-Bellevue, WA</td>\n",
       "    </tr>\n",
       "  </tbody>\n",
       "</table>\n",
       "</div>"
      ],
      "text/plain": [
       "  user_id first_name  last_name  age                                   city  \\\n",
       "0    1000   Anamaria      Bauer   45  Atlanta-Sandy Springs-Roswell, GA MSA   \n",
       "1    1001     Mickey  Wilkerson   28        Seattle-Tacoma-Bellevue, WA MSA   \n",
       "2    1002     Carlee    Hoffman   36   Las Vegas-Henderson-Paradise, NV MSA   \n",
       "3    1003   Reynaldo    Jenkins   52                          Tulsa, OK MSA   \n",
       "4    1004    Leonila   Thompson   40        Seattle-Tacoma-Bellevue, WA MSA   \n",
       "\n",
       "    reg_date      plan                                msa  \n",
       "0 2018-12-24  ultimate  Atlanta-Sandy Springs-Roswell, GA  \n",
       "1 2018-08-13      surf        Seattle-Tacoma-Bellevue, WA  \n",
       "2 2018-10-21      surf   Las Vegas-Henderson-Paradise, NV  \n",
       "3 2018-01-28      surf                          Tulsa, OK  \n",
       "4 2018-05-23      surf        Seattle-Tacoma-Bellevue, WA  "
      ]
     },
     "execution_count": 27,
     "metadata": {},
     "output_type": "execute_result"
    }
   ],
   "source": [
    "users_df.head(5)"
   ]
  },
  {
   "cell_type": "markdown",
   "metadata": {},
   "source": [
    "## Calls"
   ]
  },
  {
   "cell_type": "code",
   "execution_count": 28,
   "metadata": {},
   "outputs": [],
   "source": [
    "calls_df = pd.read_csv('megaline/megaline_calls.csv')"
   ]
  },
  {
   "cell_type": "code",
   "execution_count": 29,
   "metadata": {},
   "outputs": [
    {
     "name": "stdout",
     "output_type": "stream",
     "text": [
      "<class 'pandas.core.frame.DataFrame'>\n",
      "RangeIndex: 137735 entries, 0 to 137734\n",
      "Data columns (total 4 columns):\n",
      " #   Column     Non-Null Count   Dtype  \n",
      "---  ------     --------------   -----  \n",
      " 0   id         137735 non-null  object \n",
      " 1   user_id    137735 non-null  int64  \n",
      " 2   call_date  137735 non-null  object \n",
      " 3   duration   137735 non-null  float64\n",
      "dtypes: float64(1), int64(1), object(2)\n",
      "memory usage: 4.2+ MB\n"
     ]
    },
    {
     "data": {
      "text/html": [
       "<div>\n",
       "<style scoped>\n",
       "    .dataframe tbody tr th:only-of-type {\n",
       "        vertical-align: middle;\n",
       "    }\n",
       "\n",
       "    .dataframe tbody tr th {\n",
       "        vertical-align: top;\n",
       "    }\n",
       "\n",
       "    .dataframe thead th {\n",
       "        text-align: right;\n",
       "    }\n",
       "</style>\n",
       "<table border=\"1\" class=\"dataframe\">\n",
       "  <thead>\n",
       "    <tr style=\"text-align: right;\">\n",
       "      <th></th>\n",
       "      <th>id</th>\n",
       "      <th>user_id</th>\n",
       "      <th>call_date</th>\n",
       "      <th>duration</th>\n",
       "    </tr>\n",
       "  </thead>\n",
       "  <tbody>\n",
       "    <tr>\n",
       "      <th>0</th>\n",
       "      <td>1000_93</td>\n",
       "      <td>1000</td>\n",
       "      <td>2018-12-27</td>\n",
       "      <td>8.52</td>\n",
       "    </tr>\n",
       "    <tr>\n",
       "      <th>1</th>\n",
       "      <td>1000_145</td>\n",
       "      <td>1000</td>\n",
       "      <td>2018-12-27</td>\n",
       "      <td>13.66</td>\n",
       "    </tr>\n",
       "    <tr>\n",
       "      <th>2</th>\n",
       "      <td>1000_247</td>\n",
       "      <td>1000</td>\n",
       "      <td>2018-12-27</td>\n",
       "      <td>14.48</td>\n",
       "    </tr>\n",
       "    <tr>\n",
       "      <th>3</th>\n",
       "      <td>1000_309</td>\n",
       "      <td>1000</td>\n",
       "      <td>2018-12-28</td>\n",
       "      <td>5.76</td>\n",
       "    </tr>\n",
       "    <tr>\n",
       "      <th>4</th>\n",
       "      <td>1000_380</td>\n",
       "      <td>1000</td>\n",
       "      <td>2018-12-30</td>\n",
       "      <td>4.22</td>\n",
       "    </tr>\n",
       "  </tbody>\n",
       "</table>\n",
       "</div>"
      ],
      "text/plain": [
       "         id  user_id   call_date  duration\n",
       "0   1000_93     1000  2018-12-27      8.52\n",
       "1  1000_145     1000  2018-12-27     13.66\n",
       "2  1000_247     1000  2018-12-27     14.48\n",
       "3  1000_309     1000  2018-12-28      5.76\n",
       "4  1000_380     1000  2018-12-30      4.22"
      ]
     },
     "metadata": {},
     "output_type": "display_data"
    },
    {
     "data": {
      "text/html": [
       "<div>\n",
       "<style scoped>\n",
       "    .dataframe tbody tr th:only-of-type {\n",
       "        vertical-align: middle;\n",
       "    }\n",
       "\n",
       "    .dataframe tbody tr th {\n",
       "        vertical-align: top;\n",
       "    }\n",
       "\n",
       "    .dataframe thead th {\n",
       "        text-align: right;\n",
       "    }\n",
       "</style>\n",
       "<table border=\"1\" class=\"dataframe\">\n",
       "  <thead>\n",
       "    <tr style=\"text-align: right;\">\n",
       "      <th></th>\n",
       "      <th>id</th>\n",
       "      <th>user_id</th>\n",
       "      <th>call_date</th>\n",
       "      <th>duration</th>\n",
       "    </tr>\n",
       "  </thead>\n",
       "  <tbody>\n",
       "    <tr>\n",
       "      <th>28541</th>\n",
       "      <td>1109_168</td>\n",
       "      <td>1109</td>\n",
       "      <td>2018-11-21</td>\n",
       "      <td>3.76</td>\n",
       "    </tr>\n",
       "    <tr>\n",
       "      <th>76924</th>\n",
       "      <td>1277_0</td>\n",
       "      <td>1277</td>\n",
       "      <td>2018-10-05</td>\n",
       "      <td>5.55</td>\n",
       "    </tr>\n",
       "    <tr>\n",
       "      <th>101559</th>\n",
       "      <td>1362_308</td>\n",
       "      <td>1362</td>\n",
       "      <td>2018-07-01</td>\n",
       "      <td>6.73</td>\n",
       "    </tr>\n",
       "    <tr>\n",
       "      <th>49564</th>\n",
       "      <td>1179_223</td>\n",
       "      <td>1179</td>\n",
       "      <td>2018-07-30</td>\n",
       "      <td>0.92</td>\n",
       "    </tr>\n",
       "    <tr>\n",
       "      <th>70871</th>\n",
       "      <td>1252_247</td>\n",
       "      <td>1252</td>\n",
       "      <td>2018-11-03</td>\n",
       "      <td>10.57</td>\n",
       "    </tr>\n",
       "  </tbody>\n",
       "</table>\n",
       "</div>"
      ],
      "text/plain": [
       "              id  user_id   call_date  duration\n",
       "28541   1109_168     1109  2018-11-21      3.76\n",
       "76924     1277_0     1277  2018-10-05      5.55\n",
       "101559  1362_308     1362  2018-07-01      6.73\n",
       "49564   1179_223     1179  2018-07-30      0.92\n",
       "70871   1252_247     1252  2018-11-03     10.57"
      ]
     },
     "execution_count": 29,
     "metadata": {},
     "output_type": "execute_result"
    }
   ],
   "source": [
    "# looking at general info for calls_df \n",
    "calls_df.info()\n",
    "display(calls_df.head(5))\n",
    "calls_df.sample(5)"
   ]
  },
  {
   "cell_type": "markdown",
   "metadata": {},
   "source": [
    "General Observations: \n",
    "    \n",
    "    - Need to change user_id column to object \n",
    "    - Need to change date column to date time\n",
    "    - ID column name is ambiguous; will change for more transparency \n",
    "    - See duration values of 0; probably calls that were not answered"
   ]
  },
  {
   "cell_type": "markdown",
   "metadata": {},
   "source": [
    " "
   ]
  },
  {
   "cell_type": "code",
   "execution_count": 30,
   "metadata": {},
   "outputs": [
    {
     "data": {
      "text/plain": [
       "call_id                     object\n",
       "user_id                     object\n",
       "call_date           datetime64[ns]\n",
       "duration_minutes           float64\n",
       "dtype: object"
      ]
     },
     "execution_count": 30,
     "metadata": {},
     "output_type": "execute_result"
    }
   ],
   "source": [
    "# renaming columns\n",
    "calls_df = calls_df.rename(columns = {'id': 'call_id', 'duration': 'duration_minutes'})\n",
    "\n",
    "# changing datatypes\n",
    "calls_df['call_date'] = pd.to_datetime(calls_df['call_date'] , format = '%Y-%m-%d')\n",
    "calls_df['user_id'] = calls_df['user_id'].astype('object')\n",
    "calls_df.dtypes"
   ]
  },
  {
   "cell_type": "code",
   "execution_count": 31,
   "metadata": {},
   "outputs": [
    {
     "name": "stdout",
     "output_type": "stream",
     "text": [
      "Duplicates: 0\n",
      "Missing Values:\n"
     ]
    },
    {
     "data": {
      "text/plain": [
       "call_id             0\n",
       "user_id             0\n",
       "call_date           0\n",
       "duration_minutes    0\n",
       "dtype: int64"
      ]
     },
     "execution_count": 31,
     "metadata": {},
     "output_type": "execute_result"
    }
   ],
   "source": [
    "# looking at missing and duplicate values\n",
    "print('Duplicates: {}'.format(calls_df.duplicated().sum()))\n",
    "print('Missing Values:')\n",
    "calls_df.isna().sum()"
   ]
  },
  {
   "cell_type": "markdown",
   "metadata": {},
   "source": [
    "## Messages"
   ]
  },
  {
   "cell_type": "code",
   "execution_count": 32,
   "metadata": {},
   "outputs": [
    {
     "name": "stdout",
     "output_type": "stream",
     "text": [
      "<class 'pandas.core.frame.DataFrame'>\n",
      "RangeIndex: 76051 entries, 0 to 76050\n",
      "Data columns (total 3 columns):\n",
      " #   Column        Non-Null Count  Dtype \n",
      "---  ------        --------------  ----- \n",
      " 0   id            76051 non-null  object\n",
      " 1   user_id       76051 non-null  int64 \n",
      " 2   message_date  76051 non-null  object\n",
      "dtypes: int64(1), object(2)\n",
      "memory usage: 1.7+ MB\n"
     ]
    },
    {
     "data": {
      "text/html": [
       "<div>\n",
       "<style scoped>\n",
       "    .dataframe tbody tr th:only-of-type {\n",
       "        vertical-align: middle;\n",
       "    }\n",
       "\n",
       "    .dataframe tbody tr th {\n",
       "        vertical-align: top;\n",
       "    }\n",
       "\n",
       "    .dataframe thead th {\n",
       "        text-align: right;\n",
       "    }\n",
       "</style>\n",
       "<table border=\"1\" class=\"dataframe\">\n",
       "  <thead>\n",
       "    <tr style=\"text-align: right;\">\n",
       "      <th></th>\n",
       "      <th>id</th>\n",
       "      <th>user_id</th>\n",
       "      <th>message_date</th>\n",
       "    </tr>\n",
       "  </thead>\n",
       "  <tbody>\n",
       "    <tr>\n",
       "      <th>0</th>\n",
       "      <td>1000_125</td>\n",
       "      <td>1000</td>\n",
       "      <td>2018-12-27</td>\n",
       "    </tr>\n",
       "    <tr>\n",
       "      <th>1</th>\n",
       "      <td>1000_160</td>\n",
       "      <td>1000</td>\n",
       "      <td>2018-12-31</td>\n",
       "    </tr>\n",
       "    <tr>\n",
       "      <th>2</th>\n",
       "      <td>1000_223</td>\n",
       "      <td>1000</td>\n",
       "      <td>2018-12-31</td>\n",
       "    </tr>\n",
       "    <tr>\n",
       "      <th>3</th>\n",
       "      <td>1000_251</td>\n",
       "      <td>1000</td>\n",
       "      <td>2018-12-27</td>\n",
       "    </tr>\n",
       "    <tr>\n",
       "      <th>4</th>\n",
       "      <td>1000_255</td>\n",
       "      <td>1000</td>\n",
       "      <td>2018-12-26</td>\n",
       "    </tr>\n",
       "  </tbody>\n",
       "</table>\n",
       "</div>"
      ],
      "text/plain": [
       "         id  user_id message_date\n",
       "0  1000_125     1000   2018-12-27\n",
       "1  1000_160     1000   2018-12-31\n",
       "2  1000_223     1000   2018-12-31\n",
       "3  1000_251     1000   2018-12-27\n",
       "4  1000_255     1000   2018-12-26"
      ]
     },
     "metadata": {},
     "output_type": "display_data"
    },
    {
     "data": {
      "text/html": [
       "<div>\n",
       "<style scoped>\n",
       "    .dataframe tbody tr th:only-of-type {\n",
       "        vertical-align: middle;\n",
       "    }\n",
       "\n",
       "    .dataframe tbody tr th {\n",
       "        vertical-align: top;\n",
       "    }\n",
       "\n",
       "    .dataframe thead th {\n",
       "        text-align: right;\n",
       "    }\n",
       "</style>\n",
       "<table border=\"1\" class=\"dataframe\">\n",
       "  <thead>\n",
       "    <tr style=\"text-align: right;\">\n",
       "      <th></th>\n",
       "      <th>id</th>\n",
       "      <th>user_id</th>\n",
       "      <th>message_date</th>\n",
       "    </tr>\n",
       "  </thead>\n",
       "  <tbody>\n",
       "    <tr>\n",
       "      <th>31019</th>\n",
       "      <td>1194_178</td>\n",
       "      <td>1194</td>\n",
       "      <td>2018-11-10</td>\n",
       "    </tr>\n",
       "    <tr>\n",
       "      <th>63768</th>\n",
       "      <td>1405_577</td>\n",
       "      <td>1405</td>\n",
       "      <td>2018-09-06</td>\n",
       "    </tr>\n",
       "    <tr>\n",
       "      <th>34127</th>\n",
       "      <td>1215_41</td>\n",
       "      <td>1215</td>\n",
       "      <td>2018-10-18</td>\n",
       "    </tr>\n",
       "    <tr>\n",
       "      <th>28910</th>\n",
       "      <td>1176_51</td>\n",
       "      <td>1176</td>\n",
       "      <td>2018-12-29</td>\n",
       "    </tr>\n",
       "    <tr>\n",
       "      <th>71285</th>\n",
       "      <td>1465_244</td>\n",
       "      <td>1465</td>\n",
       "      <td>2018-08-11</td>\n",
       "    </tr>\n",
       "  </tbody>\n",
       "</table>\n",
       "</div>"
      ],
      "text/plain": [
       "             id  user_id message_date\n",
       "31019  1194_178     1194   2018-11-10\n",
       "63768  1405_577     1405   2018-09-06\n",
       "34127   1215_41     1215   2018-10-18\n",
       "28910   1176_51     1176   2018-12-29\n",
       "71285  1465_244     1465   2018-08-11"
      ]
     },
     "execution_count": 32,
     "metadata": {},
     "output_type": "execute_result"
    }
   ],
   "source": [
    "# looking at messages dataframe general info \n",
    "mess_df.info()\n",
    "display(mess_df.head(5))\n",
    "mess_df.sample(5)"
   ]
  },
  {
   "cell_type": "markdown",
   "metadata": {},
   "source": [
    "General Observations:\n",
    "    \n",
    "    - change user_id type to object\n",
    "    \n",
    "    - change message_date to datetime \n",
    "    \n",
    "    - change name of id column to better represent data \n",
    "    \n"
   ]
  },
  {
   "cell_type": "code",
   "execution_count": 33,
   "metadata": {},
   "outputs": [],
   "source": [
    "# changing data types \n",
    "mess_df['user_id'] = mess_df['user_id'].astype('object')\n",
    "mess_df['message_date'] = pd.to_datetime(mess_df['message_date'], format = '%Y-%m-%d')\n",
    "\n",
    "# renaming id column\n",
    "mess_df = mess_df.rename(columns = {'id': 'message_id'})\n"
   ]
  },
  {
   "cell_type": "code",
   "execution_count": 34,
   "metadata": {},
   "outputs": [
    {
     "name": "stdout",
     "output_type": "stream",
     "text": [
      "Duplicates: 0\n",
      "Missing Values:\n"
     ]
    },
    {
     "data": {
      "text/plain": [
       "message_id      0\n",
       "user_id         0\n",
       "message_date    0\n",
       "dtype: int64"
      ]
     },
     "execution_count": 34,
     "metadata": {},
     "output_type": "execute_result"
    }
   ],
   "source": [
    "# checking for missing and duplicated values\n",
    "print('Duplicates: {}'.format(mess_df['message_id'].duplicated().sum()))\n",
    "print('Missing Values:')\n",
    "mess_df.isna().sum()"
   ]
  },
  {
   "cell_type": "markdown",
   "metadata": {},
   "source": [
    "## Internet"
   ]
  },
  {
   "cell_type": "code",
   "execution_count": 35,
   "metadata": {},
   "outputs": [],
   "source": [
    "int_df = pd.read_csv('megaline/megaline_internet.csv')"
   ]
  },
  {
   "cell_type": "code",
   "execution_count": 36,
   "metadata": {},
   "outputs": [
    {
     "name": "stdout",
     "output_type": "stream",
     "text": [
      "<class 'pandas.core.frame.DataFrame'>\n",
      "RangeIndex: 104825 entries, 0 to 104824\n",
      "Data columns (total 4 columns):\n",
      " #   Column        Non-Null Count   Dtype  \n",
      "---  ------        --------------   -----  \n",
      " 0   id            104825 non-null  object \n",
      " 1   user_id       104825 non-null  int64  \n",
      " 2   session_date  104825 non-null  object \n",
      " 3   mb_used       104825 non-null  float64\n",
      "dtypes: float64(1), int64(1), object(2)\n",
      "memory usage: 3.2+ MB\n"
     ]
    },
    {
     "data": {
      "text/html": [
       "<div>\n",
       "<style scoped>\n",
       "    .dataframe tbody tr th:only-of-type {\n",
       "        vertical-align: middle;\n",
       "    }\n",
       "\n",
       "    .dataframe tbody tr th {\n",
       "        vertical-align: top;\n",
       "    }\n",
       "\n",
       "    .dataframe thead th {\n",
       "        text-align: right;\n",
       "    }\n",
       "</style>\n",
       "<table border=\"1\" class=\"dataframe\">\n",
       "  <thead>\n",
       "    <tr style=\"text-align: right;\">\n",
       "      <th></th>\n",
       "      <th>id</th>\n",
       "      <th>user_id</th>\n",
       "      <th>session_date</th>\n",
       "      <th>mb_used</th>\n",
       "    </tr>\n",
       "  </thead>\n",
       "  <tbody>\n",
       "    <tr>\n",
       "      <th>0</th>\n",
       "      <td>1000_13</td>\n",
       "      <td>1000</td>\n",
       "      <td>2018-12-29</td>\n",
       "      <td>89.86</td>\n",
       "    </tr>\n",
       "    <tr>\n",
       "      <th>1</th>\n",
       "      <td>1000_204</td>\n",
       "      <td>1000</td>\n",
       "      <td>2018-12-31</td>\n",
       "      <td>0.00</td>\n",
       "    </tr>\n",
       "    <tr>\n",
       "      <th>2</th>\n",
       "      <td>1000_379</td>\n",
       "      <td>1000</td>\n",
       "      <td>2018-12-28</td>\n",
       "      <td>660.40</td>\n",
       "    </tr>\n",
       "    <tr>\n",
       "      <th>3</th>\n",
       "      <td>1000_413</td>\n",
       "      <td>1000</td>\n",
       "      <td>2018-12-26</td>\n",
       "      <td>270.99</td>\n",
       "    </tr>\n",
       "    <tr>\n",
       "      <th>4</th>\n",
       "      <td>1000_442</td>\n",
       "      <td>1000</td>\n",
       "      <td>2018-12-27</td>\n",
       "      <td>880.22</td>\n",
       "    </tr>\n",
       "  </tbody>\n",
       "</table>\n",
       "</div>"
      ],
      "text/plain": [
       "         id  user_id session_date  mb_used\n",
       "0   1000_13     1000   2018-12-29    89.86\n",
       "1  1000_204     1000   2018-12-31     0.00\n",
       "2  1000_379     1000   2018-12-28   660.40\n",
       "3  1000_413     1000   2018-12-26   270.99\n",
       "4  1000_442     1000   2018-12-27   880.22"
      ]
     },
     "metadata": {},
     "output_type": "display_data"
    },
    {
     "data": {
      "text/html": [
       "<div>\n",
       "<style scoped>\n",
       "    .dataframe tbody tr th:only-of-type {\n",
       "        vertical-align: middle;\n",
       "    }\n",
       "\n",
       "    .dataframe tbody tr th {\n",
       "        vertical-align: top;\n",
       "    }\n",
       "\n",
       "    .dataframe thead th {\n",
       "        text-align: right;\n",
       "    }\n",
       "</style>\n",
       "<table border=\"1\" class=\"dataframe\">\n",
       "  <thead>\n",
       "    <tr style=\"text-align: right;\">\n",
       "      <th></th>\n",
       "      <th>id</th>\n",
       "      <th>user_id</th>\n",
       "      <th>session_date</th>\n",
       "      <th>mb_used</th>\n",
       "    </tr>\n",
       "  </thead>\n",
       "  <tbody>\n",
       "    <tr>\n",
       "      <th>21146</th>\n",
       "      <td>1098_182</td>\n",
       "      <td>1098</td>\n",
       "      <td>2018-08-28</td>\n",
       "      <td>534.57</td>\n",
       "    </tr>\n",
       "    <tr>\n",
       "      <th>43179</th>\n",
       "      <td>1191_358</td>\n",
       "      <td>1191</td>\n",
       "      <td>2018-12-12</td>\n",
       "      <td>272.74</td>\n",
       "    </tr>\n",
       "    <tr>\n",
       "      <th>56922</th>\n",
       "      <td>1257_189</td>\n",
       "      <td>1257</td>\n",
       "      <td>2018-09-13</td>\n",
       "      <td>298.78</td>\n",
       "    </tr>\n",
       "    <tr>\n",
       "      <th>49790</th>\n",
       "      <td>1222_289</td>\n",
       "      <td>1222</td>\n",
       "      <td>2018-08-31</td>\n",
       "      <td>0.00</td>\n",
       "    </tr>\n",
       "    <tr>\n",
       "      <th>24052</th>\n",
       "      <td>1110_310</td>\n",
       "      <td>1110</td>\n",
       "      <td>2018-08-15</td>\n",
       "      <td>752.75</td>\n",
       "    </tr>\n",
       "  </tbody>\n",
       "</table>\n",
       "</div>"
      ],
      "text/plain": [
       "             id  user_id session_date  mb_used\n",
       "21146  1098_182     1098   2018-08-28   534.57\n",
       "43179  1191_358     1191   2018-12-12   272.74\n",
       "56922  1257_189     1257   2018-09-13   298.78\n",
       "49790  1222_289     1222   2018-08-31     0.00\n",
       "24052  1110_310     1110   2018-08-15   752.75"
      ]
     },
     "execution_count": 36,
     "metadata": {},
     "output_type": "execute_result"
    }
   ],
   "source": [
    "# looking at internet dataframe general info \n",
    "int_df.info()\n",
    "display(int_df.head(5))\n",
    "int_df.sample(5)"
   ]
  },
  {
   "cell_type": "markdown",
   "metadata": {},
   "source": [
    "General Observations:\n",
    "     \n",
    "        - change id column name to be better representative of data \n",
    "        \n",
    "        - need to change user_id and session_date data types \n",
    "       \n",
    "        - I will need to round the cumulative mb usage up to the nearest thousand, so I need to make sure                         that people who used 0.00 don't get rounded up\n",
    "    \n",
    "\n"
   ]
  },
  {
   "cell_type": "markdown",
   "metadata": {},
   "source": [
    " "
   ]
  },
  {
   "cell_type": "code",
   "execution_count": 37,
   "metadata": {},
   "outputs": [],
   "source": [
    "# changing data types\n",
    "\n",
    "int_df['user_id'] = int_df['user_id'].astype('object')\n",
    "int_df['session_date'] = pd.to_datetime(int_df['session_date'], format = '%Y-%m-%d')\n",
    "\n"
   ]
  },
  {
   "cell_type": "code",
   "execution_count": 38,
   "metadata": {},
   "outputs": [
    {
     "data": {
      "text/html": [
       "<div>\n",
       "<style scoped>\n",
       "    .dataframe tbody tr th:only-of-type {\n",
       "        vertical-align: middle;\n",
       "    }\n",
       "\n",
       "    .dataframe tbody tr th {\n",
       "        vertical-align: top;\n",
       "    }\n",
       "\n",
       "    .dataframe thead th {\n",
       "        text-align: right;\n",
       "    }\n",
       "</style>\n",
       "<table border=\"1\" class=\"dataframe\">\n",
       "  <thead>\n",
       "    <tr style=\"text-align: right;\">\n",
       "      <th></th>\n",
       "      <th>session_id</th>\n",
       "      <th>user_id</th>\n",
       "      <th>session_date</th>\n",
       "      <th>mb_used</th>\n",
       "    </tr>\n",
       "  </thead>\n",
       "  <tbody>\n",
       "    <tr>\n",
       "      <th>0</th>\n",
       "      <td>1000_13</td>\n",
       "      <td>1000</td>\n",
       "      <td>2018-12-29</td>\n",
       "      <td>89.86</td>\n",
       "    </tr>\n",
       "    <tr>\n",
       "      <th>1</th>\n",
       "      <td>1000_204</td>\n",
       "      <td>1000</td>\n",
       "      <td>2018-12-31</td>\n",
       "      <td>0.00</td>\n",
       "    </tr>\n",
       "    <tr>\n",
       "      <th>2</th>\n",
       "      <td>1000_379</td>\n",
       "      <td>1000</td>\n",
       "      <td>2018-12-28</td>\n",
       "      <td>660.40</td>\n",
       "    </tr>\n",
       "    <tr>\n",
       "      <th>3</th>\n",
       "      <td>1000_413</td>\n",
       "      <td>1000</td>\n",
       "      <td>2018-12-26</td>\n",
       "      <td>270.99</td>\n",
       "    </tr>\n",
       "    <tr>\n",
       "      <th>4</th>\n",
       "      <td>1000_442</td>\n",
       "      <td>1000</td>\n",
       "      <td>2018-12-27</td>\n",
       "      <td>880.22</td>\n",
       "    </tr>\n",
       "  </tbody>\n",
       "</table>\n",
       "</div>"
      ],
      "text/plain": [
       "  session_id user_id session_date  mb_used\n",
       "0    1000_13    1000   2018-12-29    89.86\n",
       "1   1000_204    1000   2018-12-31     0.00\n",
       "2   1000_379    1000   2018-12-28   660.40\n",
       "3   1000_413    1000   2018-12-26   270.99\n",
       "4   1000_442    1000   2018-12-27   880.22"
      ]
     },
     "metadata": {},
     "output_type": "display_data"
    }
   ],
   "source": [
    "# renaming columns \n",
    "int_df.rename(columns = {'id': 'session_id'}, inplace = True)\n",
    "display(int_df.head(5))"
   ]
  },
  {
   "cell_type": "code",
   "execution_count": 39,
   "metadata": {},
   "outputs": [
    {
     "name": "stdout",
     "output_type": "stream",
     "text": [
      "Duplicates:\n",
      "Missing Values:\n"
     ]
    },
    {
     "data": {
      "text/plain": [
       "session_id      0\n",
       "user_id         0\n",
       "session_date    0\n",
       "mb_used         0\n",
       "dtype: int64"
      ]
     },
     "metadata": {},
     "output_type": "display_data"
    }
   ],
   "source": [
    "print('Duplicates:'.format(int_df.duplicated().sum()))\n",
    "print('Missing Values:')\n",
    "\n",
    "display(int_df.isna().sum())"
   ]
  },
  {
   "cell_type": "code",
   "execution_count": 40,
   "metadata": {},
   "outputs": [
    {
     "data": {
      "text/html": [
       "<div>\n",
       "<style scoped>\n",
       "    .dataframe tbody tr th:only-of-type {\n",
       "        vertical-align: middle;\n",
       "    }\n",
       "\n",
       "    .dataframe tbody tr th {\n",
       "        vertical-align: top;\n",
       "    }\n",
       "\n",
       "    .dataframe thead th {\n",
       "        text-align: right;\n",
       "    }\n",
       "</style>\n",
       "<table border=\"1\" class=\"dataframe\">\n",
       "  <thead>\n",
       "    <tr style=\"text-align: right;\">\n",
       "      <th></th>\n",
       "      <th>plan_name</th>\n",
       "      <th>messages_per_month_included</th>\n",
       "      <th>mb_per_month_included</th>\n",
       "      <th>minutes_per_month_included</th>\n",
       "      <th>usd_monthly_pay</th>\n",
       "      <th>usd_per_gb_overage</th>\n",
       "      <th>usd_per_message_overage</th>\n",
       "      <th>usd_per_minute_overage</th>\n",
       "    </tr>\n",
       "  </thead>\n",
       "  <tbody>\n",
       "    <tr>\n",
       "      <th>0</th>\n",
       "      <td>surf</td>\n",
       "      <td>50</td>\n",
       "      <td>15360</td>\n",
       "      <td>500</td>\n",
       "      <td>20</td>\n",
       "      <td>10</td>\n",
       "      <td>0.03</td>\n",
       "      <td>0.03</td>\n",
       "    </tr>\n",
       "    <tr>\n",
       "      <th>1</th>\n",
       "      <td>ultimate</td>\n",
       "      <td>1000</td>\n",
       "      <td>30720</td>\n",
       "      <td>3000</td>\n",
       "      <td>70</td>\n",
       "      <td>7</td>\n",
       "      <td>0.01</td>\n",
       "      <td>0.01</td>\n",
       "    </tr>\n",
       "  </tbody>\n",
       "</table>\n",
       "</div>"
      ],
      "text/plain": [
       "  plan_name  messages_per_month_included  mb_per_month_included  \\\n",
       "0      surf                           50                  15360   \n",
       "1  ultimate                         1000                  30720   \n",
       "\n",
       "   minutes_per_month_included  usd_monthly_pay  usd_per_gb_overage  \\\n",
       "0                         500               20                  10   \n",
       "1                        3000               70                   7   \n",
       "\n",
       "   usd_per_message_overage  usd_per_minute_overage  \n",
       "0                     0.03                    0.03  \n",
       "1                     0.01                    0.01  "
      ]
     },
     "metadata": {},
     "output_type": "display_data"
    }
   ],
   "source": [
    "# Print out the plan conditions and make sure they are clear for you\n",
    "display(plans_df)\n"
   ]
  },
  {
   "cell_type": "markdown",
   "metadata": {},
   "source": [
    "Key points to remember: \n",
    "    \n",
    "    \n",
    "    -Each individual call is rounded up to the next minute regardless how long the call is\n",
    "    \n",
    "    -Monthly traffic totals are rounded up to the nearest GB \n",
    "    \n",
    "    -usd per message/gb columns refer to overages and surcharges \n"
   ]
  },
  {
   "cell_type": "markdown",
   "metadata": {},
   "source": [
    "# Exploratory Data Analysis <a id = 'explore'></a>"
   ]
  },
  {
   "cell_type": "markdown",
   "metadata": {},
   "source": [
    "## Aggregating data per user\n"
   ]
  },
  {
   "cell_type": "code",
   "execution_count": 41,
   "metadata": {},
   "outputs": [
    {
     "data": {
      "text/html": [
       "<div>\n",
       "<style scoped>\n",
       "    .dataframe tbody tr th:only-of-type {\n",
       "        vertical-align: middle;\n",
       "    }\n",
       "\n",
       "    .dataframe tbody tr th {\n",
       "        vertical-align: top;\n",
       "    }\n",
       "\n",
       "    .dataframe thead th {\n",
       "        text-align: right;\n",
       "    }\n",
       "</style>\n",
       "<table border=\"1\" class=\"dataframe\">\n",
       "  <thead>\n",
       "    <tr style=\"text-align: right;\">\n",
       "      <th></th>\n",
       "      <th>user_id</th>\n",
       "      <th>month</th>\n",
       "      <th>total_calls</th>\n",
       "      <th>total_minutes</th>\n",
       "    </tr>\n",
       "  </thead>\n",
       "  <tbody>\n",
       "    <tr>\n",
       "      <th>0</th>\n",
       "      <td>1000</td>\n",
       "      <td>2018-12</td>\n",
       "      <td>16</td>\n",
       "      <td>124.0</td>\n",
       "    </tr>\n",
       "    <tr>\n",
       "      <th>1</th>\n",
       "      <td>1001</td>\n",
       "      <td>2018-08</td>\n",
       "      <td>27</td>\n",
       "      <td>182.0</td>\n",
       "    </tr>\n",
       "    <tr>\n",
       "      <th>2</th>\n",
       "      <td>1001</td>\n",
       "      <td>2018-09</td>\n",
       "      <td>49</td>\n",
       "      <td>315.0</td>\n",
       "    </tr>\n",
       "    <tr>\n",
       "      <th>3</th>\n",
       "      <td>1001</td>\n",
       "      <td>2018-10</td>\n",
       "      <td>65</td>\n",
       "      <td>393.0</td>\n",
       "    </tr>\n",
       "    <tr>\n",
       "      <th>4</th>\n",
       "      <td>1001</td>\n",
       "      <td>2018-11</td>\n",
       "      <td>64</td>\n",
       "      <td>426.0</td>\n",
       "    </tr>\n",
       "    <tr>\n",
       "      <th>...</th>\n",
       "      <td>...</td>\n",
       "      <td>...</td>\n",
       "      <td>...</td>\n",
       "      <td>...</td>\n",
       "    </tr>\n",
       "    <tr>\n",
       "      <th>2253</th>\n",
       "      <td>1498</td>\n",
       "      <td>2018-12</td>\n",
       "      <td>39</td>\n",
       "      <td>339.0</td>\n",
       "    </tr>\n",
       "    <tr>\n",
       "      <th>2254</th>\n",
       "      <td>1499</td>\n",
       "      <td>2018-09</td>\n",
       "      <td>41</td>\n",
       "      <td>346.0</td>\n",
       "    </tr>\n",
       "    <tr>\n",
       "      <th>2255</th>\n",
       "      <td>1499</td>\n",
       "      <td>2018-10</td>\n",
       "      <td>53</td>\n",
       "      <td>385.0</td>\n",
       "    </tr>\n",
       "    <tr>\n",
       "      <th>2256</th>\n",
       "      <td>1499</td>\n",
       "      <td>2018-11</td>\n",
       "      <td>45</td>\n",
       "      <td>308.0</td>\n",
       "    </tr>\n",
       "    <tr>\n",
       "      <th>2257</th>\n",
       "      <td>1499</td>\n",
       "      <td>2018-12</td>\n",
       "      <td>65</td>\n",
       "      <td>496.0</td>\n",
       "    </tr>\n",
       "  </tbody>\n",
       "</table>\n",
       "<p>2258 rows × 4 columns</p>\n",
       "</div>"
      ],
      "text/plain": [
       "      user_id    month  total_calls  total_minutes\n",
       "0        1000  2018-12           16          124.0\n",
       "1        1001  2018-08           27          182.0\n",
       "2        1001  2018-09           49          315.0\n",
       "3        1001  2018-10           65          393.0\n",
       "4        1001  2018-11           64          426.0\n",
       "...       ...      ...          ...            ...\n",
       "2253     1498  2018-12           39          339.0\n",
       "2254     1499  2018-09           41          346.0\n",
       "2255     1499  2018-10           53          385.0\n",
       "2256     1499  2018-11           45          308.0\n",
       "2257     1499  2018-12           65          496.0\n",
       "\n",
       "[2258 rows x 4 columns]"
      ]
     },
     "execution_count": 41,
     "metadata": {},
     "output_type": "execute_result"
    }
   ],
   "source": [
    "# rounding up all individual calls \n",
    "calls_df['duration_minutes'] = np.ceil(calls_df['duration_minutes'])\n",
    "\n",
    "# Calculating the amount of minutes and total calls per user \n",
    "minutes_per_user = calls_df.groupby('user_id').resample('M', on = 'call_date').agg({'duration_minutes': ('count', 'sum')}).reset_index()\n",
    "minutes_per_user = minutes_per_user.rename(columns = {'call_date': 'month', 'duration_minutes': 'total_minutes_spent'})\n",
    "minutes_per_user['month']=  minutes_per_user['month'].dt.to_period('M')\n",
    "\n",
    "\n",
    "# removing multiidex columns and renaming columns \n",
    "minutes_per_user.columns = minutes_per_user.columns.droplevel()\n",
    "minutes_per_user.columns = ['user_id', 'month', 'total_calls', 'total_minutes']\n",
    "minutes_per_user"
   ]
  },
  {
   "cell_type": "code",
   "execution_count": 42,
   "metadata": {},
   "outputs": [
    {
     "data": {
      "text/html": [
       "<div>\n",
       "<style scoped>\n",
       "    .dataframe tbody tr th:only-of-type {\n",
       "        vertical-align: middle;\n",
       "    }\n",
       "\n",
       "    .dataframe tbody tr th {\n",
       "        vertical-align: top;\n",
       "    }\n",
       "\n",
       "    .dataframe thead th {\n",
       "        text-align: right;\n",
       "    }\n",
       "</style>\n",
       "<table border=\"1\" class=\"dataframe\">\n",
       "  <thead>\n",
       "    <tr style=\"text-align: right;\">\n",
       "      <th></th>\n",
       "      <th>user_id</th>\n",
       "      <th>month</th>\n",
       "      <th>total_messages_sent</th>\n",
       "    </tr>\n",
       "  </thead>\n",
       "  <tbody>\n",
       "    <tr>\n",
       "      <th>0</th>\n",
       "      <td>1000</td>\n",
       "      <td>2018-12</td>\n",
       "      <td>11</td>\n",
       "    </tr>\n",
       "    <tr>\n",
       "      <th>1</th>\n",
       "      <td>1001</td>\n",
       "      <td>2018-08</td>\n",
       "      <td>30</td>\n",
       "    </tr>\n",
       "    <tr>\n",
       "      <th>2</th>\n",
       "      <td>1001</td>\n",
       "      <td>2018-09</td>\n",
       "      <td>44</td>\n",
       "    </tr>\n",
       "    <tr>\n",
       "      <th>3</th>\n",
       "      <td>1001</td>\n",
       "      <td>2018-10</td>\n",
       "      <td>53</td>\n",
       "    </tr>\n",
       "    <tr>\n",
       "      <th>4</th>\n",
       "      <td>1001</td>\n",
       "      <td>2018-11</td>\n",
       "      <td>36</td>\n",
       "    </tr>\n",
       "    <tr>\n",
       "      <th>...</th>\n",
       "      <td>...</td>\n",
       "      <td>...</td>\n",
       "      <td>...</td>\n",
       "    </tr>\n",
       "    <tr>\n",
       "      <th>1805</th>\n",
       "      <td>1496</td>\n",
       "      <td>2018-09</td>\n",
       "      <td>21</td>\n",
       "    </tr>\n",
       "    <tr>\n",
       "      <th>1806</th>\n",
       "      <td>1496</td>\n",
       "      <td>2018-10</td>\n",
       "      <td>18</td>\n",
       "    </tr>\n",
       "    <tr>\n",
       "      <th>1807</th>\n",
       "      <td>1496</td>\n",
       "      <td>2018-11</td>\n",
       "      <td>13</td>\n",
       "    </tr>\n",
       "    <tr>\n",
       "      <th>1808</th>\n",
       "      <td>1496</td>\n",
       "      <td>2018-12</td>\n",
       "      <td>11</td>\n",
       "    </tr>\n",
       "    <tr>\n",
       "      <th>1809</th>\n",
       "      <td>1497</td>\n",
       "      <td>2018-12</td>\n",
       "      <td>50</td>\n",
       "    </tr>\n",
       "  </tbody>\n",
       "</table>\n",
       "<p>1810 rows × 3 columns</p>\n",
       "</div>"
      ],
      "text/plain": [
       "      user_id    month  total_messages_sent\n",
       "0        1000  2018-12                   11\n",
       "1        1001  2018-08                   30\n",
       "2        1001  2018-09                   44\n",
       "3        1001  2018-10                   53\n",
       "4        1001  2018-11                   36\n",
       "...       ...      ...                  ...\n",
       "1805     1496  2018-09                   21\n",
       "1806     1496  2018-10                   18\n",
       "1807     1496  2018-11                   13\n",
       "1808     1496  2018-12                   11\n",
       "1809     1497  2018-12                   50\n",
       "\n",
       "[1810 rows x 3 columns]"
      ]
     },
     "execution_count": 42,
     "metadata": {},
     "output_type": "execute_result"
    }
   ],
   "source": [
    "# calculating the number of messages sent each month for each user\n",
    "messages_per_user = mess_df.groupby('user_id').resample('M', on = 'message_date')['message_id'].count().reset_index()\n",
    "messages_per_user = messages_per_user.rename(columns = {'message_date': 'month', 'message_id':'total_messages_sent'})\n",
    "messages_per_user['month'] = messages_per_user['month'].dt.to_period('M')\n",
    "\n",
    "messages_per_user"
   ]
  },
  {
   "cell_type": "code",
   "execution_count": 43,
   "metadata": {
    "scrolled": true
   },
   "outputs": [
    {
     "data": {
      "text/html": [
       "<div>\n",
       "<style scoped>\n",
       "    .dataframe tbody tr th:only-of-type {\n",
       "        vertical-align: middle;\n",
       "    }\n",
       "\n",
       "    .dataframe tbody tr th {\n",
       "        vertical-align: top;\n",
       "    }\n",
       "\n",
       "    .dataframe thead th {\n",
       "        text-align: right;\n",
       "    }\n",
       "</style>\n",
       "<table border=\"1\" class=\"dataframe\">\n",
       "  <thead>\n",
       "    <tr style=\"text-align: right;\">\n",
       "      <th></th>\n",
       "      <th>user_id</th>\n",
       "      <th>month</th>\n",
       "      <th>total_sessions</th>\n",
       "      <th>total_traffic_mb</th>\n",
       "    </tr>\n",
       "  </thead>\n",
       "  <tbody>\n",
       "    <tr>\n",
       "      <th>0</th>\n",
       "      <td>1000</td>\n",
       "      <td>2018-12</td>\n",
       "      <td>5</td>\n",
       "      <td>1901.47</td>\n",
       "    </tr>\n",
       "    <tr>\n",
       "      <th>1</th>\n",
       "      <td>1001</td>\n",
       "      <td>2018-08</td>\n",
       "      <td>25</td>\n",
       "      <td>6919.15</td>\n",
       "    </tr>\n",
       "    <tr>\n",
       "      <th>2</th>\n",
       "      <td>1001</td>\n",
       "      <td>2018-09</td>\n",
       "      <td>53</td>\n",
       "      <td>13314.82</td>\n",
       "    </tr>\n",
       "    <tr>\n",
       "      <th>3</th>\n",
       "      <td>1001</td>\n",
       "      <td>2018-10</td>\n",
       "      <td>56</td>\n",
       "      <td>22330.49</td>\n",
       "    </tr>\n",
       "    <tr>\n",
       "      <th>4</th>\n",
       "      <td>1001</td>\n",
       "      <td>2018-11</td>\n",
       "      <td>51</td>\n",
       "      <td>18504.30</td>\n",
       "    </tr>\n",
       "    <tr>\n",
       "      <th>...</th>\n",
       "      <td>...</td>\n",
       "      <td>...</td>\n",
       "      <td>...</td>\n",
       "      <td>...</td>\n",
       "    </tr>\n",
       "    <tr>\n",
       "      <th>2273</th>\n",
       "      <td>1498</td>\n",
       "      <td>2018-12</td>\n",
       "      <td>65</td>\n",
       "      <td>23137.69</td>\n",
       "    </tr>\n",
       "    <tr>\n",
       "      <th>2274</th>\n",
       "      <td>1499</td>\n",
       "      <td>2018-09</td>\n",
       "      <td>45</td>\n",
       "      <td>12984.76</td>\n",
       "    </tr>\n",
       "    <tr>\n",
       "      <th>2275</th>\n",
       "      <td>1499</td>\n",
       "      <td>2018-10</td>\n",
       "      <td>61</td>\n",
       "      <td>19492.43</td>\n",
       "    </tr>\n",
       "    <tr>\n",
       "      <th>2276</th>\n",
       "      <td>1499</td>\n",
       "      <td>2018-11</td>\n",
       "      <td>49</td>\n",
       "      <td>16813.83</td>\n",
       "    </tr>\n",
       "    <tr>\n",
       "      <th>2277</th>\n",
       "      <td>1499</td>\n",
       "      <td>2018-12</td>\n",
       "      <td>65</td>\n",
       "      <td>22059.21</td>\n",
       "    </tr>\n",
       "  </tbody>\n",
       "</table>\n",
       "<p>2278 rows × 4 columns</p>\n",
       "</div>"
      ],
      "text/plain": [
       "      user_id    month  total_sessions  total_traffic_mb\n",
       "0        1000  2018-12               5           1901.47\n",
       "1        1001  2018-08              25           6919.15\n",
       "2        1001  2018-09              53          13314.82\n",
       "3        1001  2018-10              56          22330.49\n",
       "4        1001  2018-11              51          18504.30\n",
       "...       ...      ...             ...               ...\n",
       "2273     1498  2018-12              65          23137.69\n",
       "2274     1499  2018-09              45          12984.76\n",
       "2275     1499  2018-10              61          19492.43\n",
       "2276     1499  2018-11              49          16813.83\n",
       "2277     1499  2018-12              65          22059.21\n",
       "\n",
       "[2278 rows x 4 columns]"
      ]
     },
     "execution_count": 43,
     "metadata": {},
     "output_type": "execute_result"
    }
   ],
   "source": [
    "# calculating the total number of internet session and usage \n",
    "traffic_per_user = int_df.groupby('user_id').resample('m', on = 'session_date').agg({'session_id': 'count', 'mb_used': 'sum'}).reset_index()\n",
    "traffic_per_user  = traffic_per_user.rename(columns = {'session_date': 'month', \n",
    "                                                       'mb_used': 'total_traffic_mb', \n",
    "                                                       'session_id': 'total_sessions'}\n",
    "                                           )\n",
    "traffic_per_user['month']= traffic_per_user['month'].dt.to_period('M')\n",
    "\n",
    "traffic_per_user\n",
    "\n",
    "\n",
    "\n"
   ]
  },
  {
   "cell_type": "code",
   "execution_count": 44,
   "metadata": {},
   "outputs": [],
   "source": [
    "# function to round values up to nearest 1000th\n",
    "def round_up_to_nearest_1000(num):\n",
    "    if num != 0:\n",
    "        return mt.ceil(num / 1024) * 1000\n",
    "    else:\n",
    "        return 0.00\n",
    "\n",
    "# rounding up total_traffic_mb to nearest 1000th     \n",
    "traffic_per_user['total_traffic_mb'] = traffic_per_user['total_traffic_mb'].apply(round_up_to_nearest_1000)\n"
   ]
  },
  {
   "cell_type": "code",
   "execution_count": 357,
   "metadata": {},
   "outputs": [
    {
     "data": {
      "text/html": [
       "<div>\n",
       "<style scoped>\n",
       "    .dataframe tbody tr th:only-of-type {\n",
       "        vertical-align: middle;\n",
       "    }\n",
       "\n",
       "    .dataframe tbody tr th {\n",
       "        vertical-align: top;\n",
       "    }\n",
       "\n",
       "    .dataframe thead th {\n",
       "        text-align: right;\n",
       "    }\n",
       "</style>\n",
       "<table border=\"1\" class=\"dataframe\">\n",
       "  <thead>\n",
       "    <tr style=\"text-align: right;\">\n",
       "      <th></th>\n",
       "      <th>user_id</th>\n",
       "      <th>month</th>\n",
       "      <th>total_sessions</th>\n",
       "      <th>total_traffic_mb</th>\n",
       "    </tr>\n",
       "  </thead>\n",
       "  <tbody>\n",
       "    <tr>\n",
       "      <th>0</th>\n",
       "      <td>1000</td>\n",
       "      <td>2018-12</td>\n",
       "      <td>5</td>\n",
       "      <td>2000.0</td>\n",
       "    </tr>\n",
       "    <tr>\n",
       "      <th>1</th>\n",
       "      <td>1001</td>\n",
       "      <td>2018-08</td>\n",
       "      <td>25</td>\n",
       "      <td>7000.0</td>\n",
       "    </tr>\n",
       "    <tr>\n",
       "      <th>2</th>\n",
       "      <td>1001</td>\n",
       "      <td>2018-09</td>\n",
       "      <td>53</td>\n",
       "      <td>14000.0</td>\n",
       "    </tr>\n",
       "    <tr>\n",
       "      <th>3</th>\n",
       "      <td>1001</td>\n",
       "      <td>2018-10</td>\n",
       "      <td>56</td>\n",
       "      <td>22000.0</td>\n",
       "    </tr>\n",
       "    <tr>\n",
       "      <th>4</th>\n",
       "      <td>1001</td>\n",
       "      <td>2018-11</td>\n",
       "      <td>51</td>\n",
       "      <td>19000.0</td>\n",
       "    </tr>\n",
       "    <tr>\n",
       "      <th>5</th>\n",
       "      <td>1001</td>\n",
       "      <td>2018-12</td>\n",
       "      <td>60</td>\n",
       "      <td>19000.0</td>\n",
       "    </tr>\n",
       "    <tr>\n",
       "      <th>6</th>\n",
       "      <td>1002</td>\n",
       "      <td>2018-10</td>\n",
       "      <td>21</td>\n",
       "      <td>7000.0</td>\n",
       "    </tr>\n",
       "    <tr>\n",
       "      <th>7</th>\n",
       "      <td>1002</td>\n",
       "      <td>2018-11</td>\n",
       "      <td>52</td>\n",
       "      <td>19000.0</td>\n",
       "    </tr>\n",
       "    <tr>\n",
       "      <th>8</th>\n",
       "      <td>1002</td>\n",
       "      <td>2018-12</td>\n",
       "      <td>51</td>\n",
       "      <td>15000.0</td>\n",
       "    </tr>\n",
       "    <tr>\n",
       "      <th>9</th>\n",
       "      <td>1003</td>\n",
       "      <td>2018-12</td>\n",
       "      <td>52</td>\n",
       "      <td>27000.0</td>\n",
       "    </tr>\n",
       "  </tbody>\n",
       "</table>\n",
       "</div>"
      ],
      "text/plain": [
       "   user_id    month  total_sessions  total_traffic_mb\n",
       "0     1000  2018-12               5            2000.0\n",
       "1     1001  2018-08              25            7000.0\n",
       "2     1001  2018-09              53           14000.0\n",
       "3     1001  2018-10              56           22000.0\n",
       "4     1001  2018-11              51           19000.0\n",
       "5     1001  2018-12              60           19000.0\n",
       "6     1002  2018-10              21            7000.0\n",
       "7     1002  2018-11              52           19000.0\n",
       "8     1002  2018-12              51           15000.0\n",
       "9     1003  2018-12              52           27000.0"
      ]
     },
     "execution_count": 357,
     "metadata": {},
     "output_type": "execute_result"
    }
   ],
   "source": [
    "# checking to make sure that it worked\n",
    "traffic_per_user.head(10)"
   ]
  },
  {
   "cell_type": "code",
   "execution_count": 56,
   "metadata": {},
   "outputs": [],
   "source": [
    "# merging all aggregated data into one dataframe - minutes_per_user, messages_per_user, traffic_per_user\n",
    "usage_data = minutes_per_user.merge(messages_per_user, how = 'outer', on = ['user_id', 'month'])\\\n",
    ".merge(traffic_per_user, how = 'outer', on = ['user_id', 'month'])"
   ]
  },
  {
   "cell_type": "code",
   "execution_count": 62,
   "metadata": {},
   "outputs": [
    {
     "data": {
      "text/html": [
       "<div>\n",
       "<style scoped>\n",
       "    .dataframe tbody tr th:only-of-type {\n",
       "        vertical-align: middle;\n",
       "    }\n",
       "\n",
       "    .dataframe tbody tr th {\n",
       "        vertical-align: top;\n",
       "    }\n",
       "\n",
       "    .dataframe thead th {\n",
       "        text-align: right;\n",
       "    }\n",
       "</style>\n",
       "<table border=\"1\" class=\"dataframe\">\n",
       "  <thead>\n",
       "    <tr style=\"text-align: right;\">\n",
       "      <th></th>\n",
       "      <th>plan_name</th>\n",
       "      <th>messages_per_month_included</th>\n",
       "      <th>mb_per_month_included</th>\n",
       "      <th>minutes_per_month_included</th>\n",
       "      <th>usd_monthly_pay</th>\n",
       "      <th>usd_per_gb_overage</th>\n",
       "      <th>usd_per_message_overage</th>\n",
       "      <th>usd_per_minute_overage</th>\n",
       "    </tr>\n",
       "  </thead>\n",
       "  <tbody>\n",
       "    <tr>\n",
       "      <th>0</th>\n",
       "      <td>surf</td>\n",
       "      <td>50</td>\n",
       "      <td>15360</td>\n",
       "      <td>500</td>\n",
       "      <td>20</td>\n",
       "      <td>10</td>\n",
       "      <td>0.03</td>\n",
       "      <td>0.03</td>\n",
       "    </tr>\n",
       "    <tr>\n",
       "      <th>1</th>\n",
       "      <td>ultimate</td>\n",
       "      <td>1000</td>\n",
       "      <td>30720</td>\n",
       "      <td>3000</td>\n",
       "      <td>70</td>\n",
       "      <td>7</td>\n",
       "      <td>0.01</td>\n",
       "      <td>0.01</td>\n",
       "    </tr>\n",
       "  </tbody>\n",
       "</table>\n",
       "</div>"
      ],
      "text/plain": [
       "  plan_name  messages_per_month_included  mb_per_month_included  \\\n",
       "0      surf                           50                  15360   \n",
       "1  ultimate                         1000                  30720   \n",
       "\n",
       "   minutes_per_month_included  usd_monthly_pay  usd_per_gb_overage  \\\n",
       "0                         500               20                  10   \n",
       "1                        3000               70                   7   \n",
       "\n",
       "   usd_per_message_overage  usd_per_minute_overage  \n",
       "0                     0.03                    0.03  \n",
       "1                     0.01                    0.01  "
      ]
     },
     "execution_count": 62,
     "metadata": {},
     "output_type": "execute_result"
    }
   ],
   "source": [
    "plans_df"
   ]
  },
  {
   "cell_type": "code",
   "execution_count": 64,
   "metadata": {},
   "outputs": [
    {
     "name": "stderr",
     "output_type": "stream",
     "text": [
      "/Users/kevinklev/opt/anaconda3/lib/python3.9/site-packages/pandas/core/reshape/merge.py:916: FutureWarning: In a future version, the Index constructor will not infer numeric dtypes when passed object-dtype sequences (matching Series behavior)\n",
      "  key_col = Index(lvals).where(~mask_left, rvals)\n"
     ]
    },
    {
     "data": {
      "text/html": [
       "<div>\n",
       "<style scoped>\n",
       "    .dataframe tbody tr th:only-of-type {\n",
       "        vertical-align: middle;\n",
       "    }\n",
       "\n",
       "    .dataframe tbody tr th {\n",
       "        vertical-align: top;\n",
       "    }\n",
       "\n",
       "    .dataframe thead th {\n",
       "        text-align: right;\n",
       "    }\n",
       "</style>\n",
       "<table border=\"1\" class=\"dataframe\">\n",
       "  <thead>\n",
       "    <tr style=\"text-align: right;\">\n",
       "      <th></th>\n",
       "      <th>user_id</th>\n",
       "      <th>month</th>\n",
       "      <th>total_calls</th>\n",
       "      <th>total_minutes</th>\n",
       "      <th>total_messages_sent</th>\n",
       "      <th>total_sessions</th>\n",
       "      <th>total_traffic_mb</th>\n",
       "      <th>plan</th>\n",
       "      <th>messages_per_month_included</th>\n",
       "      <th>mb_per_month_included</th>\n",
       "      <th>minutes_per_month_included</th>\n",
       "      <th>usd_monthly_pay</th>\n",
       "      <th>usd_per_gb_overage</th>\n",
       "      <th>usd_per_message_overage</th>\n",
       "      <th>usd_per_minute_overage</th>\n",
       "    </tr>\n",
       "  </thead>\n",
       "  <tbody>\n",
       "    <tr>\n",
       "      <th>0</th>\n",
       "      <td>1000.0</td>\n",
       "      <td>2018-12</td>\n",
       "      <td>16.0</td>\n",
       "      <td>124.0</td>\n",
       "      <td>11.0</td>\n",
       "      <td>5.0</td>\n",
       "      <td>2000.0</td>\n",
       "      <td>ultimate</td>\n",
       "      <td>1000</td>\n",
       "      <td>30720</td>\n",
       "      <td>3000</td>\n",
       "      <td>70</td>\n",
       "      <td>7</td>\n",
       "      <td>0.01</td>\n",
       "      <td>0.01</td>\n",
       "    </tr>\n",
       "    <tr>\n",
       "      <th>1</th>\n",
       "      <td>1001.0</td>\n",
       "      <td>2018-08</td>\n",
       "      <td>27.0</td>\n",
       "      <td>182.0</td>\n",
       "      <td>30.0</td>\n",
       "      <td>25.0</td>\n",
       "      <td>7000.0</td>\n",
       "      <td>surf</td>\n",
       "      <td>50</td>\n",
       "      <td>15360</td>\n",
       "      <td>500</td>\n",
       "      <td>20</td>\n",
       "      <td>10</td>\n",
       "      <td>0.03</td>\n",
       "      <td>0.03</td>\n",
       "    </tr>\n",
       "    <tr>\n",
       "      <th>2</th>\n",
       "      <td>1001.0</td>\n",
       "      <td>2018-09</td>\n",
       "      <td>49.0</td>\n",
       "      <td>315.0</td>\n",
       "      <td>44.0</td>\n",
       "      <td>53.0</td>\n",
       "      <td>14000.0</td>\n",
       "      <td>surf</td>\n",
       "      <td>50</td>\n",
       "      <td>15360</td>\n",
       "      <td>500</td>\n",
       "      <td>20</td>\n",
       "      <td>10</td>\n",
       "      <td>0.03</td>\n",
       "      <td>0.03</td>\n",
       "    </tr>\n",
       "    <tr>\n",
       "      <th>3</th>\n",
       "      <td>1001.0</td>\n",
       "      <td>2018-10</td>\n",
       "      <td>65.0</td>\n",
       "      <td>393.0</td>\n",
       "      <td>53.0</td>\n",
       "      <td>56.0</td>\n",
       "      <td>22000.0</td>\n",
       "      <td>surf</td>\n",
       "      <td>50</td>\n",
       "      <td>15360</td>\n",
       "      <td>500</td>\n",
       "      <td>20</td>\n",
       "      <td>10</td>\n",
       "      <td>0.03</td>\n",
       "      <td>0.03</td>\n",
       "    </tr>\n",
       "    <tr>\n",
       "      <th>4</th>\n",
       "      <td>1001.0</td>\n",
       "      <td>2018-11</td>\n",
       "      <td>64.0</td>\n",
       "      <td>426.0</td>\n",
       "      <td>36.0</td>\n",
       "      <td>51.0</td>\n",
       "      <td>19000.0</td>\n",
       "      <td>surf</td>\n",
       "      <td>50</td>\n",
       "      <td>15360</td>\n",
       "      <td>500</td>\n",
       "      <td>20</td>\n",
       "      <td>10</td>\n",
       "      <td>0.03</td>\n",
       "      <td>0.03</td>\n",
       "    </tr>\n",
       "    <tr>\n",
       "      <th>...</th>\n",
       "      <td>...</td>\n",
       "      <td>...</td>\n",
       "      <td>...</td>\n",
       "      <td>...</td>\n",
       "      <td>...</td>\n",
       "      <td>...</td>\n",
       "      <td>...</td>\n",
       "      <td>...</td>\n",
       "      <td>...</td>\n",
       "      <td>...</td>\n",
       "      <td>...</td>\n",
       "      <td>...</td>\n",
       "      <td>...</td>\n",
       "      <td>...</td>\n",
       "      <td>...</td>\n",
       "    </tr>\n",
       "    <tr>\n",
       "      <th>2298</th>\n",
       "      <td>1307</td>\n",
       "      <td>NaT</td>\n",
       "      <td>NaN</td>\n",
       "      <td>NaN</td>\n",
       "      <td>NaN</td>\n",
       "      <td>NaN</td>\n",
       "      <td>NaN</td>\n",
       "      <td>surf</td>\n",
       "      <td>50</td>\n",
       "      <td>15360</td>\n",
       "      <td>500</td>\n",
       "      <td>20</td>\n",
       "      <td>10</td>\n",
       "      <td>0.03</td>\n",
       "      <td>0.03</td>\n",
       "    </tr>\n",
       "    <tr>\n",
       "      <th>2299</th>\n",
       "      <td>1319</td>\n",
       "      <td>NaT</td>\n",
       "      <td>NaN</td>\n",
       "      <td>NaN</td>\n",
       "      <td>NaN</td>\n",
       "      <td>NaN</td>\n",
       "      <td>NaN</td>\n",
       "      <td>surf</td>\n",
       "      <td>50</td>\n",
       "      <td>15360</td>\n",
       "      <td>500</td>\n",
       "      <td>20</td>\n",
       "      <td>10</td>\n",
       "      <td>0.03</td>\n",
       "      <td>0.03</td>\n",
       "    </tr>\n",
       "    <tr>\n",
       "      <th>2300</th>\n",
       "      <td>1378</td>\n",
       "      <td>NaT</td>\n",
       "      <td>NaN</td>\n",
       "      <td>NaN</td>\n",
       "      <td>NaN</td>\n",
       "      <td>NaN</td>\n",
       "      <td>NaN</td>\n",
       "      <td>surf</td>\n",
       "      <td>50</td>\n",
       "      <td>15360</td>\n",
       "      <td>500</td>\n",
       "      <td>20</td>\n",
       "      <td>10</td>\n",
       "      <td>0.03</td>\n",
       "      <td>0.03</td>\n",
       "    </tr>\n",
       "    <tr>\n",
       "      <th>2301</th>\n",
       "      <td>1463</td>\n",
       "      <td>NaT</td>\n",
       "      <td>NaN</td>\n",
       "      <td>NaN</td>\n",
       "      <td>NaN</td>\n",
       "      <td>NaN</td>\n",
       "      <td>NaN</td>\n",
       "      <td>ultimate</td>\n",
       "      <td>1000</td>\n",
       "      <td>30720</td>\n",
       "      <td>3000</td>\n",
       "      <td>70</td>\n",
       "      <td>7</td>\n",
       "      <td>0.01</td>\n",
       "      <td>0.01</td>\n",
       "    </tr>\n",
       "    <tr>\n",
       "      <th>2302</th>\n",
       "      <td>1473</td>\n",
       "      <td>NaT</td>\n",
       "      <td>NaN</td>\n",
       "      <td>NaN</td>\n",
       "      <td>NaN</td>\n",
       "      <td>NaN</td>\n",
       "      <td>NaN</td>\n",
       "      <td>surf</td>\n",
       "      <td>50</td>\n",
       "      <td>15360</td>\n",
       "      <td>500</td>\n",
       "      <td>20</td>\n",
       "      <td>10</td>\n",
       "      <td>0.03</td>\n",
       "      <td>0.03</td>\n",
       "    </tr>\n",
       "  </tbody>\n",
       "</table>\n",
       "<p>2303 rows × 15 columns</p>\n",
       "</div>"
      ],
      "text/plain": [
       "     user_id    month  total_calls  total_minutes  total_messages_sent  \\\n",
       "0     1000.0  2018-12         16.0          124.0                 11.0   \n",
       "1     1001.0  2018-08         27.0          182.0                 30.0   \n",
       "2     1001.0  2018-09         49.0          315.0                 44.0   \n",
       "3     1001.0  2018-10         65.0          393.0                 53.0   \n",
       "4     1001.0  2018-11         64.0          426.0                 36.0   \n",
       "...      ...      ...          ...            ...                  ...   \n",
       "2298    1307      NaT          NaN            NaN                  NaN   \n",
       "2299    1319      NaT          NaN            NaN                  NaN   \n",
       "2300    1378      NaT          NaN            NaN                  NaN   \n",
       "2301    1463      NaT          NaN            NaN                  NaN   \n",
       "2302    1473      NaT          NaN            NaN                  NaN   \n",
       "\n",
       "      total_sessions  total_traffic_mb      plan  messages_per_month_included  \\\n",
       "0                5.0            2000.0  ultimate                         1000   \n",
       "1               25.0            7000.0      surf                           50   \n",
       "2               53.0           14000.0      surf                           50   \n",
       "3               56.0           22000.0      surf                           50   \n",
       "4               51.0           19000.0      surf                           50   \n",
       "...              ...               ...       ...                          ...   \n",
       "2298             NaN               NaN      surf                           50   \n",
       "2299             NaN               NaN      surf                           50   \n",
       "2300             NaN               NaN      surf                           50   \n",
       "2301             NaN               NaN  ultimate                         1000   \n",
       "2302             NaN               NaN      surf                           50   \n",
       "\n",
       "      mb_per_month_included  minutes_per_month_included  usd_monthly_pay  \\\n",
       "0                     30720                        3000               70   \n",
       "1                     15360                         500               20   \n",
       "2                     15360                         500               20   \n",
       "3                     15360                         500               20   \n",
       "4                     15360                         500               20   \n",
       "...                     ...                         ...              ...   \n",
       "2298                  15360                         500               20   \n",
       "2299                  15360                         500               20   \n",
       "2300                  15360                         500               20   \n",
       "2301                  30720                        3000               70   \n",
       "2302                  15360                         500               20   \n",
       "\n",
       "      usd_per_gb_overage  usd_per_message_overage  usd_per_minute_overage  \n",
       "0                      7                     0.01                    0.01  \n",
       "1                     10                     0.03                    0.03  \n",
       "2                     10                     0.03                    0.03  \n",
       "3                     10                     0.03                    0.03  \n",
       "4                     10                     0.03                    0.03  \n",
       "...                  ...                      ...                     ...  \n",
       "2298                  10                     0.03                    0.03  \n",
       "2299                  10                     0.03                    0.03  \n",
       "2300                  10                     0.03                    0.03  \n",
       "2301                   7                     0.01                    0.01  \n",
       "2302                  10                     0.03                    0.03  \n",
       "\n",
       "[2303 rows x 15 columns]"
      ]
     },
     "execution_count": 64,
     "metadata": {},
     "output_type": "execute_result"
    }
   ],
   "source": [
    "# Adding the plan information\n",
    "total_monthly_usage = usage_data.merge(users_df[['user_id', 'plan']], how = 'outer', on = 'user_id')\\\n",
    ".merge(plans_df, how = 'left', on = 'plan')\n",
    "\n",
    "total_monthly_usage"
   ]
  },
  {
   "cell_type": "code",
   "execution_count": 65,
   "metadata": {},
   "outputs": [
    {
     "data": {
      "text/plain": [
       "user_id                          0\n",
       "month                           10\n",
       "total_calls                     45\n",
       "total_minutes                   45\n",
       "total_messages_sent            493\n",
       "total_sessions                  25\n",
       "total_traffic_mb                25\n",
       "plan                             0\n",
       "messages_per_month_included      0\n",
       "mb_per_month_included            0\n",
       "minutes_per_month_included       0\n",
       "usd_monthly_pay                  0\n",
       "usd_per_gb_overage               0\n",
       "usd_per_message_overage          0\n",
       "usd_per_minute_overage           0\n",
       "dtype: int64"
      ]
     },
     "execution_count": 65,
     "metadata": {},
     "output_type": "execute_result"
    }
   ],
   "source": [
    "# looking at missing values in new dataframe\n",
    "total_monthly_usage.isna().sum()"
   ]
  },
  {
   "cell_type": "code",
   "execution_count": 66,
   "metadata": {},
   "outputs": [],
   "source": [
    "# dropping rows where month data is missing - no reason to keep this in my analysis\n",
    "total_monthly_usage.drop(total_monthly_usage[total_monthly_usage['month'].isna() == True].index, inplace = True)\n",
    "\n"
   ]
  },
  {
   "cell_type": "code",
   "execution_count": 67,
   "metadata": {},
   "outputs": [],
   "source": [
    "# filling the rest of the missing values\n",
    "total_monthly_usage = total_monthly_usage.fillna(0)\n",
    "\n",
    "# can assume that values of 0 indicate that the customer does ot have that service b"
   ]
  },
  {
   "cell_type": "code",
   "execution_count": 68,
   "metadata": {},
   "outputs": [
    {
     "data": {
      "text/html": [
       "<div>\n",
       "<style scoped>\n",
       "    .dataframe tbody tr th:only-of-type {\n",
       "        vertical-align: middle;\n",
       "    }\n",
       "\n",
       "    .dataframe tbody tr th {\n",
       "        vertical-align: top;\n",
       "    }\n",
       "\n",
       "    .dataframe thead th {\n",
       "        text-align: right;\n",
       "    }\n",
       "</style>\n",
       "<table border=\"1\" class=\"dataframe\">\n",
       "  <thead>\n",
       "    <tr style=\"text-align: right;\">\n",
       "      <th></th>\n",
       "      <th>user_id</th>\n",
       "      <th>revenue_usd</th>\n",
       "      <th>plan</th>\n",
       "    </tr>\n",
       "  </thead>\n",
       "  <tbody>\n",
       "    <tr>\n",
       "      <th>0</th>\n",
       "      <td>1000.0</td>\n",
       "      <td>70.000000</td>\n",
       "      <td>ultimate</td>\n",
       "    </tr>\n",
       "    <tr>\n",
       "      <th>1</th>\n",
       "      <td>1001.0</td>\n",
       "      <td>246.574375</td>\n",
       "      <td>surf</td>\n",
       "    </tr>\n",
       "    <tr>\n",
       "      <th>2</th>\n",
       "      <td>1002.0</td>\n",
       "      <td>99.062500</td>\n",
       "      <td>surf</td>\n",
       "    </tr>\n",
       "    <tr>\n",
       "      <th>3</th>\n",
       "      <td>1003.0</td>\n",
       "      <td>155.307500</td>\n",
       "      <td>surf</td>\n",
       "    </tr>\n",
       "    <tr>\n",
       "      <th>4</th>\n",
       "      <td>1004.0</td>\n",
       "      <td>599.453125</td>\n",
       "      <td>surf</td>\n",
       "    </tr>\n",
       "    <tr>\n",
       "      <th>...</th>\n",
       "      <td>...</td>\n",
       "      <td>...</td>\n",
       "      <td>...</td>\n",
       "    </tr>\n",
       "    <tr>\n",
       "      <th>485</th>\n",
       "      <td>1495.0</td>\n",
       "      <td>464.159375</td>\n",
       "      <td>surf</td>\n",
       "    </tr>\n",
       "    <tr>\n",
       "      <th>486</th>\n",
       "      <td>1496.0</td>\n",
       "      <td>139.062500</td>\n",
       "      <td>surf</td>\n",
       "    </tr>\n",
       "    <tr>\n",
       "      <th>487</th>\n",
       "      <td>1497.0</td>\n",
       "      <td>70.000000</td>\n",
       "      <td>ultimate</td>\n",
       "    </tr>\n",
       "    <tr>\n",
       "      <th>488</th>\n",
       "      <td>1498.0</td>\n",
       "      <td>835.234375</td>\n",
       "      <td>surf</td>\n",
       "    </tr>\n",
       "    <tr>\n",
       "      <th>489</th>\n",
       "      <td>1499.0</td>\n",
       "      <td>216.718750</td>\n",
       "      <td>surf</td>\n",
       "    </tr>\n",
       "  </tbody>\n",
       "</table>\n",
       "<p>490 rows × 3 columns</p>\n",
       "</div>"
      ],
      "text/plain": [
       "    user_id  revenue_usd      plan\n",
       "0    1000.0    70.000000  ultimate\n",
       "1    1001.0   246.574375      surf\n",
       "2    1002.0    99.062500      surf\n",
       "3    1003.0   155.307500      surf\n",
       "4    1004.0   599.453125      surf\n",
       "..      ...          ...       ...\n",
       "485  1495.0   464.159375      surf\n",
       "486  1496.0   139.062500      surf\n",
       "487  1497.0    70.000000  ultimate\n",
       "488  1498.0   835.234375      surf\n",
       "489  1499.0   216.718750      surf\n",
       "\n",
       "[490 rows x 3 columns]"
      ]
     },
     "execution_count": 68,
     "metadata": {},
     "output_type": "execute_result"
    }
   ],
   "source": [
    "# Calculate overages\n",
    "total_monthly_usage['message_overages'] = (total_monthly_usage['total_messages_sent'] - total_monthly_usage['messages_per_month_included']).clip(lower=0)\n",
    "total_monthly_usage['minute_overages'] = (total_monthly_usage['total_minutes'] - total_monthly_usage['minutes_per_month_included']).clip(lower=0)\n",
    "total_monthly_usage['traffic_overages'] = (total_monthly_usage['total_traffic_mb'] - total_monthly_usage['mb_per_month_included']).clip(lower=0)\n",
    "\n",
    "# Round up traffic overages and convert to GB\n",
    "total_monthly_usage['traffic_overages_gb'] = total_monthly_usage['traffic_overages'].apply(round_up_to_nearest_1000).fillna(0) / 1024\n",
    "\n",
    "# Calculate total overages in dollars\n",
    "total_monthly_usage['total_overages_dollars'] = (total_monthly_usage['usd_per_gb_overage'] * total_monthly_usage['traffic_overages_gb'] +\n",
    "                                                 total_monthly_usage['usd_per_message_overage'] * total_monthly_usage['message_overages'] +\n",
    "                                                 total_monthly_usage['usd_per_minute_overage'] * total_monthly_usage['minute_overages'])\n",
    "\n",
    "# Calculate total revenue\n",
    "total_monthly_usage['revenue_usd'] = total_monthly_usage['usd_monthly_pay'] + total_monthly_usage['total_overages_dollars']\n",
    "\n",
    "# Prepare final DataFrame with summary of revenue per user\n",
    "total_rev_per_user = total_monthly_usage.groupby('user_id')['revenue_usd'].sum().reset_index().merge(users_df[['user_id', 'plan']], how='left', on='user_id')\n",
    "total_rev_per_user "
   ]
  },
  {
   "cell_type": "markdown",
   "metadata": {},
   "source": [
    "## Studying user behaviour"
   ]
  },
  {
   "cell_type": "code",
   "execution_count": 69,
   "metadata": {},
   "outputs": [],
   "source": [
    "# filtering data frames for Surf and Ultimate Plans\n",
    "monthly_totals_surf = total_monthly_usage[total_monthly_usage['plan']== 'surf']\n",
    "monthly_totals_ult = total_monthly_usage[total_monthly_usage['plan']== 'ultimate']"
   ]
  },
  {
   "cell_type": "markdown",
   "metadata": {},
   "source": [
    "### Calls"
   ]
  },
  {
   "cell_type": "code",
   "execution_count": 70,
   "metadata": {},
   "outputs": [
    {
     "data": {
      "image/png": "[encoded data removed]",
      "text/plain": [
       "<Figure size 800x600 with 1 Axes>"
      ]
     },
     "metadata": {},
     "output_type": "display_data"
    }
   ],
   "source": [
    "# merging call information with user plan data\n",
    "calls_df_plan = calls_df.merge(users_df[['user_id', 'plan']], how = 'left', on ='user_id')\n",
    "\n",
    "# Calculate average call duration per month for each plan\n",
    "calls_avg = (calls_df_plan\n",
    "             .groupby(['plan', pd.Grouper(key='call_date', freq='M')])\n",
    "             ['duration_minutes']\n",
    "             .mean()\n",
    "             .reset_index()\n",
    "             .pivot(index='call_date', columns='plan', values='duration_minutes')\n",
    "             .rename(columns={'surf': 'avg_call_duration_surf', 'ult': 'avg_call_duration_ult'}))\n",
    "\n",
    "calls_avg.index = calls_avg.index.to_period('M')\n",
    "\n",
    "# Plotting\n",
    "calls_avg.plot(kind='bar', \n",
    "               title='Average Call Duration: Surf vs. Ultimate', \n",
    "               xlabel='Month', \n",
    "               ylabel='Call Duration (minutes)', \n",
    "               rot=50, \n",
    "               figsize=(8,6))\n",
    "\n",
    "plt.legend(['Surf', 'Ultimate'], loc='lower left')\n",
    "plt.show()\n",
    "\n"
   ]
  },
  {
   "cell_type": "markdown",
   "metadata": {},
   "source": [
    "From the graph, we can observe the following:\n",
    "\n",
    "    - The average call duration for both plans is relatively consistent month over month.\n",
    "    \n",
    "    - Both Surf and Ultimate users have an average call duration that appears to fluctuate slightly but remains mostly between 6 to 7 minutes throughout the year.\n",
    "    \n",
    "    - There is no significant difference in the average call duration between Surf and Ultimate users in \n",
    "    any given month.\n",
    "    \n",
    "\n",
    "This consistency suggests that the choice of plan (Surf or Ultimate) does not affect how long users are on the phone, and it might indicate that users on both plans have similar needs or usage patterns when it comes to making calls."
   ]
  },
  {
   "cell_type": "code",
   "execution_count": 71,
   "metadata": {
    "scrolled": false
   },
   "outputs": [
    {
     "data": {
      "image/png": "[encoded data removed]",
      "text/plain": [
       "<Figure size 640x480 with 1 Axes>"
      ]
     },
     "metadata": {},
     "output_type": "display_data"
    }
   ],
   "source": [
    "# Comparing the number of minutes users of each plan require each month - merging directly and plotting\n",
    "(minutes_per_user\n",
    " .merge(users_df[['user_id', 'plan']], how='left', on='user_id')\n",
    " .groupby('plan')['total_minutes']\n",
    " .plot(kind='hist', bins=20, alpha=0.5, legend=True))\n",
    "\n",
    "plt.xlabel('Monthly Minutes')\n",
    "plt.ylabel('Frequency')\n",
    "plt.title('Monthly Minute Use: Surf vs. Ultimate')\n",
    "plt.legend(['Ultimate', 'Surf'], loc='upper right')\n",
    "plt.show()\n"
   ]
  },
  {
   "cell_type": "markdown",
   "metadata": {},
   "source": [
    "Plan Comparison: The Surf plan users (in brown) tend to use fewer minutes compared to Ultimate plan users (in blue). This could imply that the Surf plan might be tailored for users with lower usage needs or that it attracts more light users.\n",
    "\n",
    "Usage Patterns:\n",
    "\n",
    "    Surf: The histogram for Surf plan users appears to be right-skewed, indicating that the majority of users consume a smaller number of minutes, with a tail extending towards higher minute usage. This indicates that there are fewer high-usage customers on the Surf plan.\n",
    "    \n",
    "    Ultimate: The distribution for Ultimate plan users is more normally distributed but slightly right-skewed as well, suggesting that most customers use a moderate amount of minutes, with usage tapering off as the number of minutes increases.\n",
    "\n",
    "Peak Usage: The peak usage (mode) for Surf plan users is lower than that for Ultimate plan users, suggesting that on average, Ultimate users tend to spend more time on calls."
   ]
  },
  {
   "cell_type": "code",
   "execution_count": 72,
   "metadata": {},
   "outputs": [
    {
     "data": {
      "text/html": [
       "<div>\n",
       "<style scoped>\n",
       "    .dataframe tbody tr th:only-of-type {\n",
       "        vertical-align: middle;\n",
       "    }\n",
       "\n",
       "    .dataframe tbody tr th {\n",
       "        vertical-align: top;\n",
       "    }\n",
       "\n",
       "    .dataframe thead tr th {\n",
       "        text-align: left;\n",
       "    }\n",
       "\n",
       "    .dataframe thead tr:last-of-type th {\n",
       "        text-align: right;\n",
       "    }\n",
       "</style>\n",
       "<table border=\"1\" class=\"dataframe\">\n",
       "  <thead>\n",
       "    <tr>\n",
       "      <th></th>\n",
       "      <th colspan=\"3\" halign=\"left\">duration_minutes</th>\n",
       "    </tr>\n",
       "    <tr>\n",
       "      <th></th>\n",
       "      <th>mean</th>\n",
       "      <th>var</th>\n",
       "      <th>std</th>\n",
       "    </tr>\n",
       "    <tr>\n",
       "      <th>plan</th>\n",
       "      <th></th>\n",
       "      <th></th>\n",
       "      <th></th>\n",
       "    </tr>\n",
       "  </thead>\n",
       "  <tbody>\n",
       "    <tr>\n",
       "      <th>surf</th>\n",
       "      <td>7.168307</td>\n",
       "      <td>35.502268</td>\n",
       "      <td>5.958378</td>\n",
       "    </tr>\n",
       "    <tr>\n",
       "      <th>ultimate</th>\n",
       "      <td>7.100044</td>\n",
       "      <td>35.332282</td>\n",
       "      <td>5.944096</td>\n",
       "    </tr>\n",
       "  </tbody>\n",
       "</table>\n",
       "</div>"
      ],
      "text/plain": [
       "         duration_minutes                     \n",
       "                     mean        var       std\n",
       "plan                                          \n",
       "surf             7.168307  35.502268  5.958378\n",
       "ultimate         7.100044  35.332282  5.944096"
      ]
     },
     "execution_count": 72,
     "metadata": {},
     "output_type": "execute_result"
    }
   ],
   "source": [
    "# looking at mean, standard deviation, and variance of calls duration for both plans\n",
    "calls_df_plan.groupby('plan').agg({'duration_minutes': ['mean', 'var', 'std']})"
   ]
  },
  {
   "cell_type": "code",
   "execution_count": 73,
   "metadata": {},
   "outputs": [
    {
     "data": {
      "text/plain": [
       "<Figure size 1000x600 with 0 Axes>"
      ]
     },
     "metadata": {},
     "output_type": "display_data"
    },
    {
     "data": {
      "image/png": "[encoded data removed]",
      "text/plain": [
       "<Figure size 640x480 with 1 Axes>"
      ]
     },
     "metadata": {},
     "output_type": "display_data"
    }
   ],
   "source": [
    "# Plot a boxplot to visualize the distribution of the monthly call duration for each plan\n",
    "plt.figure(figsize=(10, 6))  # Optional: Adjust the figure size as needed\n",
    "calls_df_plan.boxplot(by='plan', column=['duration_minutes'], grid=False)\n",
    "plt.title('Distribution of Monthly Call Duration by Plan')\n",
    "plt.suptitle('')  # Suppress the default title to avoid duplication\n",
    "plt.xlabel('Plan')\n",
    "plt.ylabel('Duration in Minutes')\n",
    "plt.show()\n"
   ]
  },
  {
   "cell_type": "markdown",
   "metadata": {},
   "source": [
    "From the graph, we can deduce:\n",
    "\n",
    "    - Both plans have a similar range of call durations as indicated by the similar lengths of their boxes and whiskers.\n",
    "    \n",
    "    - The median call duration is also similar for both plans, as the line within each box is nearly at the same level.\n",
    "    \n",
    "    - There is a substantial number of outliers for both plans, indicating that there are quite a few users whose monthly call duration is much higher than average.\n",
    "    \n",
    "    - The distribution of call durations for both plans appears to be slightly right-skewed, as the median line is closer to the bottom of the box, and there are more outliers on the upper end.\n",
    "\n",
    "Overall, the box plot suggests that while the average behavior is similar across both plans, there are individual users with significantly higher call durations. There doesn't appear to be a stark difference between the Surf and Ultimate plans in terms of the overall distribution of call durations."
   ]
  },
  {
   "cell_type": "markdown",
   "metadata": {},
   "source": [
    " "
   ]
  },
  {
   "cell_type": "markdown",
   "metadata": {},
   "source": [
    "### Messages"
   ]
  },
  {
   "cell_type": "code",
   "execution_count": 74,
   "metadata": {
    "scrolled": false
   },
   "outputs": [
    {
     "name": "stderr",
     "output_type": "stream",
     "text": [
      "/var/folders/41/r7v088h101110hk6h74712800000gn/T/ipykernel_40878/1619247290.py:3: SettingWithCopyWarning: \n",
      "A value is trying to be set on a copy of a slice from a DataFrame.\n",
      "Try using .loc[row_indexer,col_indexer] = value instead\n",
      "\n",
      "See the caveats in the documentation: https://pandas.pydata.org/pandas-docs/stable/user_guide/indexing.html#returning-a-view-versus-a-copy\n",
      "  total_messages['month'] = total_messages['month'].dt.to_timestamp()\n"
     ]
    },
    {
     "data": {
      "image/png": "[encoded data removed]",
      "text/plain": [
       "<Figure size 800x600 with 1 Axes>"
      ]
     },
     "metadata": {},
     "output_type": "display_data"
    }
   ],
   "source": [
    "total_messages = total_monthly_usage[['user_id', 'month', 'total_messages_sent', 'plan']]\n",
    "# Since 'month' is of PeriodDtype, convert it to Timestamp\n",
    "total_messages['month'] = total_messages['month'].dt.to_timestamp()\n",
    "\n",
    "# Set 'month' as the index\n",
    "total_messages.set_index('month', inplace=True)\n",
    "\n",
    "# Now group by 'plan' and resample by month, then plot\n",
    "mean_messages = (total_messages\n",
    "                 .groupby('plan')\n",
    "                 .resample('M')['total_messages_sent']\n",
    "                 .mean()\n",
    "                 .unstack(level=0)  # Pivot the 'plan' level of the index into column headers\n",
    "                )\n",
    "\n",
    "mean_messages.index = mean_messages.index.to_period('M')\n",
    "\n",
    "# Plot the bar chart\n",
    "mean_messages.plot(kind='bar',\n",
    "                   title='Mean Messages Sent Each Month: Surf vs. Ultimate',\n",
    "                   ylabel='Messages',\n",
    "                   rot=50,\n",
    "                   figsize=(8,6))\n",
    "\n",
    "plt.legend(['Surf', 'Ultimate'], loc='upper left')\n",
    "plt.show()\n",
    "\n",
    "\n"
   ]
  },
  {
   "cell_type": "markdown",
   "metadata": {},
   "source": [
    "From the graph, we can observe:\n",
    "\n",
    " \n",
    "    - Starting from January (2018-01), the average number of messages sent by users of both plans appears to increase over the year, peaking around October (2018-10) for the Surf plan and December (2018-12) for \n",
    "    the Ultimate plan.\n",
    "\n",
    "    - The Ultimate plan users generally sent more messages on average than the Surf users throughout the year.\n",
    "\n",
    "    - The difference in the mean number of messages sent between the two plans seems to be \n",
    "    relatively consistent, with the Ultimate plan users always sending more messages than Surf plan users.\n",
    "\n",
    "    - The increasing trend suggests that messaging activity for both plans grows as the year progresses. \n",
    "    This could be due to a variety of factors, such as an increase in users, seasonal behavior, or \n",
    "    changing communication habits.\n",
    "\n",
    "In summary, users on the Ultimate plan consistently send more messages on average than those on the Surf plan, and there is a general upward trend in messaging activity for both plans as the year progresses."
   ]
  },
  {
   "cell_type": "code",
   "execution_count": 98,
   "metadata": {
    "scrolled": false
   },
   "outputs": [
    {
     "data": {
      "image/png": "[encoded data removed]",
      "text/plain": [
       "<Figure size 800x600 with 1 Axes>"
      ]
     },
     "metadata": {},
     "output_type": "display_data"
    }
   ],
   "source": [
    "# Comparing the number of messages sent each month- merging directly and plotting\n",
    "# setting figure size \n",
    "plt.figure(figsize=(8, 6))\n",
    "\n",
    "# grouping data and plotting\n",
    "(messages_per_user\n",
    " .merge(users_df[['user_id', 'plan']], how='left', on='user_id')\n",
    " .groupby('plan')['total_messages_sent']\n",
    " .plot(kind='hist', bins=20, alpha=0.5, legend=True))\n",
    "\n",
    "# plotting data\n",
    "plt.xlabel('Monthly Messages')\n",
    "plt.ylabel('Frequency')\n",
    "plt.title('Monthly Messages Sent: Surf vs. Ultimate')\n",
    "plt.legend(['Surf', 'Ultimate'], loc='upper right')\n",
    "plt.show()"
   ]
  },
  {
   "cell_type": "markdown",
   "metadata": {},
   "source": [
    "Here's what we can infer from the graph:\n",
    "\n",
    "    - The Surf plan histogram has a higher peak and is more skewed towards the lower number of monthly minutes, indicating a higher frequency of users with fewer monthly minutes.\n",
    "\n",
    "    - The Ultimate plan histogram has a broader spread with a less pronounced peak, suggesting users' \n",
    "    monthly minutes are more evenly distributed across different usage levels.\n",
    "\n",
    "    - Both distributions appear to have a right-skewed pattern, which means most of the users consume \n",
    "    fewer minutes, with a tail extending towards the higher number of minutes indicating fewer users with very high usage.\n",
    "\n",
    "    - There is some overlap in the middle range of minutes, but the Surf plan seems to have a \n",
    "    higher concentration of users in the lower minute ranges.\n",
    "\n",
    "    - The Ultimate plan users have a wider range of message usage with some users sending a significant \n",
    "    number of messages, as shown by the long tail of the brown histogram.\n"
   ]
  },
  {
   "cell_type": "code",
   "execution_count": 76,
   "metadata": {},
   "outputs": [
    {
     "data": {
      "text/html": [
       "<div>\n",
       "<style scoped>\n",
       "    .dataframe tbody tr th:only-of-type {\n",
       "        vertical-align: middle;\n",
       "    }\n",
       "\n",
       "    .dataframe tbody tr th {\n",
       "        vertical-align: top;\n",
       "    }\n",
       "\n",
       "    .dataframe thead tr th {\n",
       "        text-align: left;\n",
       "    }\n",
       "\n",
       "    .dataframe thead tr:last-of-type th {\n",
       "        text-align: right;\n",
       "    }\n",
       "</style>\n",
       "<table border=\"1\" class=\"dataframe\">\n",
       "  <thead>\n",
       "    <tr>\n",
       "      <th></th>\n",
       "      <th colspan=\"3\" halign=\"left\">total_messages_sent</th>\n",
       "    </tr>\n",
       "    <tr>\n",
       "      <th></th>\n",
       "      <th>mean</th>\n",
       "      <th>var</th>\n",
       "      <th>std</th>\n",
       "    </tr>\n",
       "    <tr>\n",
       "      <th>plan</th>\n",
       "      <th></th>\n",
       "      <th></th>\n",
       "      <th></th>\n",
       "    </tr>\n",
       "  </thead>\n",
       "  <tbody>\n",
       "    <tr>\n",
       "      <th>surf</th>\n",
       "      <td>31.159568</td>\n",
       "      <td>1126.724522</td>\n",
       "      <td>33.566717</td>\n",
       "    </tr>\n",
       "    <tr>\n",
       "      <th>ultimate</th>\n",
       "      <td>37.551389</td>\n",
       "      <td>1208.756744</td>\n",
       "      <td>34.767179</td>\n",
       "    </tr>\n",
       "  </tbody>\n",
       "</table>\n",
       "</div>"
      ],
      "text/plain": [
       "         total_messages_sent                        \n",
       "                        mean          var        std\n",
       "plan                                                \n",
       "surf               31.159568  1126.724522  33.566717\n",
       "ultimate           37.551389  1208.756744  34.767179"
      ]
     },
     "execution_count": 76,
     "metadata": {},
     "output_type": "execute_result"
    }
   ],
   "source": [
    "# grouping to find statistical data on monthly messages sent\n",
    "total_messages.reset_index().groupby('plan').agg({'total_messages_sent': ['mean', 'var', 'std']})"
   ]
  },
  {
   "cell_type": "code",
   "execution_count": 77,
   "metadata": {
    "scrolled": false
   },
   "outputs": [
    {
     "data": {
      "text/plain": [
       "<Figure size 1000x600 with 0 Axes>"
      ]
     },
     "metadata": {},
     "output_type": "display_data"
    },
    {
     "data": {
      "image/png": "[encoded data removed]",
      "text/plain": [
       "<Figure size 640x480 with 1 Axes>"
      ]
     },
     "metadata": {},
     "output_type": "display_data"
    }
   ],
   "source": [
    "# Plot a boxplot to visualize the distribution of the monthly call duration for each plan\n",
    "plt.figure(figsize=(10, 6))  # Optional: Adjust the figure size as needed\n",
    "total_messages.boxplot(by='plan', column=['total_messages_sent'], grid=False)\n",
    "plt.title('Distribution of Monthly Messages Sent')\n",
    "plt.suptitle('')  # Suppress the default title to avoid duplication\n",
    "plt.xlabel('Plan')\n",
    "plt.ylabel('Messages Sent')\n",
    "plt.show()\n"
   ]
  },
  {
   "cell_type": "markdown",
   "metadata": {},
   "source": [
    "From the graph, we can infer:\n",
    "\n",
    "    - Both plans have a similar median number of messages sent, as indicated by the line within each box.\n",
    "\n",
    "    - The Surf plan has a wider IQR compared to the Ultimate plan, suggesting that the number of \n",
    "    messages sent by Surf users varies more from the lower to upper quartile.\n",
    "\n",
    "    - The Surf plan also has a larger number of outliers that are significantly higher than the upper quartile, indicating that there are users who send a much higher number of messages compared to the typical Surf user.\n",
    "\n",
    "    - The Ultimate plan's distribution has fewer outliers, and they are not as extreme as those for the \n",
    "    Surf plan, suggesting that Ultimate users tend to send a more consistent number of messages.\n",
    "\n",
    "Overall, while the median number of messages sent is similar between the two plans, the variability and presence of extreme values are greater in the Surf plan compared to the Ultimate plan."
   ]
  },
  {
   "cell_type": "markdown",
   "metadata": {},
   "source": [
    " "
   ]
  },
  {
   "cell_type": "markdown",
   "metadata": {},
   "source": [
    "### Internet"
   ]
  },
  {
   "cell_type": "code",
   "execution_count": 78,
   "metadata": {},
   "outputs": [
    {
     "data": {
      "image/png": "[encoded data removed]",
      "text/plain": [
       "<Figure size 800x600 with 1 Axes>"
      ]
     },
     "metadata": {},
     "output_type": "display_data"
    }
   ],
   "source": [
    "# Merge the user data with traffic data\n",
    "traffic_plan = traffic_per_user.merge(users_df[['user_id', 'plan']], how='left', on='user_id')\n",
    "\n",
    "# Calculate the average traffic for each plan per month directly without creating separate DataFrames\n",
    "avg_monthly_traffic = (traffic_plan\n",
    "                       .groupby(['month', 'plan'])\n",
    "                       .agg(avg_monthly_traffic_mb=('total_traffic_mb', 'mean'))\n",
    "                       .unstack('plan')\n",
    "                x       .reset_index())\n",
    "\n",
    "# Rename multi-level columns after unstacking\n",
    "avg_monthly_traffic.columns = ['month', 'avg_monthly_traffic_surf', 'avg_monthly_traffic_ultimate']\n",
    "\n",
    "# Plotting the data\n",
    "avg_monthly_traffic.plot(x='month',\n",
    "                         kind='bar',\n",
    "                         title='Mean Monthly Traffic: Surf vs. Ultimate',\n",
    "                         xlabel='Month',\n",
    "                         ylabel='Traffic (MB)',\n",
    "                         rot=50,\n",
    "                         figsize=(8, 6))\n",
    "\n",
    "# Add legend manually if it doesn't show up automatically\n",
    "plt.legend(['Surf', 'Ultimate'], loc='lower right')\n",
    "plt.show()\n"
   ]
  },
  {
   "cell_type": "markdown",
   "metadata": {},
   "source": [
    "From the graph, we can observe:\n",
    "\n",
    "    - Throughout the year, users on the Ultimate plan consistently use more data on average compared to users on the Ultimate plan. This is indicated by the height of the blue bars being greater than that of the orange \n",
    "    bars for each corresponding month.\n",
    "\n",
    "    - The trend of data usage for both plans appears to increase slightly as the year progresses, with \n",
    "    the highest usage for both plans occurring in the last quarter of the year (from October to December).\n",
    "\n",
    "    - The overall difference in mean data usage between the two plans remains fairly consistent month \n",
    "    over month.\n",
    "\n",
    "The graph indicates that while both Surf and Ultimate plan users tend to increase their data usage towards the end of the year, Surf users, on average, consume more data than Ultimate users every month."
   ]
  },
  {
   "cell_type": "code",
   "execution_count": 99,
   "metadata": {},
   "outputs": [
    {
     "data": {
      "image/png": "[encoded data removed]",
      "text/plain": [
       "<Figure size 800x600 with 1 Axes>"
      ]
     },
     "metadata": {},
     "output_type": "display_data"
    }
   ],
   "source": [
    "# Comparing the number of messages sent each month- merging directly and plotting\n",
    "# setting figure size \n",
    "plt.figure(figsize=(8, 6))\n",
    "\n",
    "# grouping data and plotting\n",
    "(traffic_plan\n",
    " .groupby('plan')['total_traffic_mb']\n",
    " .plot(kind='hist', bins=20, alpha=0.5, legend=True))\n",
    "\n",
    "# plotting data\n",
    "plt.xlabel('Monthly Traffic (mb)')\n",
    "plt.ylabel('Frequency')\n",
    "plt.title('Monthly Traffic Usage Distribution: Surf vs. Ultimate')\n",
    "plt.legend(['Surf', 'Ultimate'], loc='upper right')\n",
    "plt.show()"
   ]
  },
  {
   "cell_type": "markdown",
   "metadata": {},
   "source": [
    "Here's what we can infer from the graph:\n",
    "\n",
    "    - The Surf plan shows a higher frequency of users across a wide range of data usage, particularly in the lower to middle data usage brackets.\n",
    "\n",
    "    - The Ultimate plan users also have a spread of data usage, but the frequency of users at each level of data usage is lower compared to the Surf plan.\n",
    "\n",
    "    - It appears that the Surf plan has more users with higher data consumption, as indicated by the greater frequency at the higher data usage levels.\n",
    "\n",
    "    - There is some overlap in data usage between the plans, but the Surf plan's distribution extends further to the right, indicating users with very high data usage.\n",
    "\n",
    "Overall, the histogram suggests that Surf plan users tend to use more data, with a broader distribution across various levels of data consumption, including the higher end, compared to users on the Ultimate plan."
   ]
  },
  {
   "cell_type": "code",
   "execution_count": 80,
   "metadata": {},
   "outputs": [
    {
     "data": {
      "text/html": [
       "<div>\n",
       "<style scoped>\n",
       "    .dataframe tbody tr th:only-of-type {\n",
       "        vertical-align: middle;\n",
       "    }\n",
       "\n",
       "    .dataframe tbody tr th {\n",
       "        vertical-align: top;\n",
       "    }\n",
       "\n",
       "    .dataframe thead tr th {\n",
       "        text-align: left;\n",
       "    }\n",
       "\n",
       "    .dataframe thead tr:last-of-type th {\n",
       "        text-align: right;\n",
       "    }\n",
       "</style>\n",
       "<table border=\"1\" class=\"dataframe\">\n",
       "  <thead>\n",
       "    <tr>\n",
       "      <th></th>\n",
       "      <th colspan=\"3\" halign=\"left\">total_traffic_mb</th>\n",
       "    </tr>\n",
       "    <tr>\n",
       "      <th></th>\n",
       "      <th>mean</th>\n",
       "      <th>var</th>\n",
       "      <th>std</th>\n",
       "    </tr>\n",
       "    <tr>\n",
       "      <th>plan</th>\n",
       "      <th></th>\n",
       "      <th></th>\n",
       "      <th></th>\n",
       "    </tr>\n",
       "  </thead>\n",
       "  <tbody>\n",
       "    <tr>\n",
       "      <th>surf</th>\n",
       "      <td>16820.397691</td>\n",
       "      <td>5.961727e+07</td>\n",
       "      <td>7721.222249</td>\n",
       "    </tr>\n",
       "    <tr>\n",
       "      <th>ultimate</th>\n",
       "      <td>17331.015299</td>\n",
       "      <td>5.849473e+07</td>\n",
       "      <td>7648.184954</td>\n",
       "    </tr>\n",
       "  </tbody>\n",
       "</table>\n",
       "</div>"
      ],
      "text/plain": [
       "         total_traffic_mb                           \n",
       "                     mean           var          std\n",
       "plan                                                \n",
       "surf         16820.397691  5.961727e+07  7721.222249\n",
       "ultimate     17331.015299  5.849473e+07  7648.184954"
      ]
     },
     "execution_count": 80,
     "metadata": {},
     "output_type": "execute_result"
    }
   ],
   "source": [
    "# descriptive statistics of total traffic per month \n",
    "traffic_plan.reset_index().groupby('plan').agg({'total_traffic_mb': ['mean', 'var', 'std']})"
   ]
  },
  {
   "cell_type": "code",
   "execution_count": 101,
   "metadata": {},
   "outputs": [
    {
     "data": {
      "text/plain": [
       "<Figure size 1000x600 with 0 Axes>"
      ]
     },
     "metadata": {},
     "output_type": "display_data"
    },
    {
     "data": {
      "image/png": "[encoded data removed]",
      "text/plain": [
       "<Figure size 640x480 with 1 Axes>"
      ]
     },
     "metadata": {},
     "output_type": "display_data"
    }
   ],
   "source": [
    "# Plot a boxplot to visualize the distribution of the monthly call duration for each plan\n",
    "plt.figure(figsize=(10, 6))  \n",
    "traffic_plan.boxplot(by='plan', column=['total_traffic_mb'], grid=False)\n",
    "plt.title('Distribution of Monthly Traffic Use')\n",
    "plt.suptitle('')  # Suppress the default title to avoid duplication\n",
    "plt.xlabel('Plan')\n",
    "plt.ylabel('Monthly Traffic (mb)')\n",
    "plt.show()"
   ]
  },
  {
   "cell_type": "markdown",
   "metadata": {},
   "source": [
    "Observations from the graph:\n",
    "\n",
    "    - The median monthly traffic for both plans is around the same range, which we can infer from the \n",
    "    median line within each box.\n",
    "\n",
    "    - Both plans have a number of outliers, but the Surf plan has more extreme values, indicating that \n",
    "    there are users with particularly high data usage compared to the rest.\n",
    "\n",
    "    - The Ultimate plan has fewer outliers, and they are less extreme than those for the Surf plan, \n",
    "    indicating a more consistent data usage among its users.\n"
   ]
  },
  {
   "cell_type": "markdown",
   "metadata": {},
   "source": [
    " "
   ]
  },
  {
   "cell_type": "markdown",
   "metadata": {},
   "source": [
    "## Revenue"
   ]
  },
  {
   "cell_type": "code",
   "execution_count": 85,
   "metadata": {},
   "outputs": [
    {
     "data": {
      "image/png": "[encoded data removed]",
      "text/plain": [
       "<Figure size 800x600 with 1 Axes>"
      ]
     },
     "metadata": {},
     "output_type": "display_data"
    }
   ],
   "source": [
    "# creating pivot table and plotting bar graph\n",
    "total_monthly_rev = total_monthly_usage[['user_id', 'month', 'revenue_usd', 'plan']]\n",
    "\n",
    "(total_monthly_rev\n",
    " .pivot_table(index = 'month', columns = 'plan', values = 'revenue_usd', aggfunc = 'sum')\n",
    " .plot(kind = 'bar',\n",
    "       title = 'Monthly Revenue: Surf vs Ultimate',\n",
    "       xlabel = 'month',\n",
    "       ylabel = 'revenue (dollars)',\n",
    "       rot = 50,\n",
    "       figsize = (8,6),))\n",
    "\n",
    "plt.legend(['Surf', 'Ultimate'], loc = 'upper left')\n",
    "plt.show()"
   ]
  },
  {
   "cell_type": "markdown",
   "metadata": {},
   "source": [
    "From the graph, we can observe:\n",
    "\n",
    "\n",
    "    - Throughout the year, the Surf plan consistently generates more revenue each month compared to \n",
    "    the Ultimate plan, as indicated by the blue bars being taller than the orange bars for each corresponding month.\n",
    "\n",
    "    - For both plans, there is a visible increase in revenue as the year progresses, with the highest \n",
    "    revenue being generated in the last month, December (2018-12).\n",
    "\n",
    "    - The revenue for the Surf plan particularly shows a sharp increase in the later months of the \n",
    "    year, starting around September (2018-09).\n",
    "\n",
    "The graph indicates that the Surf plan is the larger revenue generator for the company on a month-by-month basis, and there is a trend of increasing revenue as the year goes on for both plans. The sharp increase for the Surf plan towards the end of the year could be due to a variety of factors, such as seasonal promotions, increased user acquisition, or changes in user behavior."
   ]
  },
  {
   "cell_type": "code",
   "execution_count": 86,
   "metadata": {},
   "outputs": [
    {
     "data": {
      "text/html": [
       "<div>\n",
       "<style scoped>\n",
       "    .dataframe tbody tr th:only-of-type {\n",
       "        vertical-align: middle;\n",
       "    }\n",
       "\n",
       "    .dataframe tbody tr th {\n",
       "        vertical-align: top;\n",
       "    }\n",
       "\n",
       "    .dataframe thead tr th {\n",
       "        text-align: left;\n",
       "    }\n",
       "\n",
       "    .dataframe thead tr:last-of-type th {\n",
       "        text-align: right;\n",
       "    }\n",
       "</style>\n",
       "<table border=\"1\" class=\"dataframe\">\n",
       "  <thead>\n",
       "    <tr>\n",
       "      <th></th>\n",
       "      <th colspan=\"3\" halign=\"left\">revenue_usd</th>\n",
       "    </tr>\n",
       "    <tr>\n",
       "      <th></th>\n",
       "      <th>mean</th>\n",
       "      <th>var</th>\n",
       "      <th>std</th>\n",
       "    </tr>\n",
       "    <tr>\n",
       "      <th>plan</th>\n",
       "      <th></th>\n",
       "      <th></th>\n",
       "      <th></th>\n",
       "    </tr>\n",
       "  </thead>\n",
       "  <tbody>\n",
       "    <tr>\n",
       "      <th>surf</th>\n",
       "      <td>282.305064</td>\n",
       "      <td>80554.241160</td>\n",
       "      <td>283.820791</td>\n",
       "    </tr>\n",
       "    <tr>\n",
       "      <th>ultimate</th>\n",
       "      <td>331.251244</td>\n",
       "      <td>50008.933012</td>\n",
       "      <td>223.626772</td>\n",
       "    </tr>\n",
       "  </tbody>\n",
       "</table>\n",
       "</div>"
      ],
      "text/plain": [
       "         revenue_usd                          \n",
       "                mean           var         std\n",
       "plan                                          \n",
       "surf      282.305064  80554.241160  283.820791\n",
       "ultimate  331.251244  50008.933012  223.626772"
      ]
     },
     "execution_count": 86,
     "metadata": {},
     "output_type": "execute_result"
    }
   ],
   "source": [
    "# pulling up descriptive statistics of revenue per customer\n",
    "total_rev_per_user.reset_index().groupby('plan').agg({'revenue_usd': ['mean', 'var', 'std']})"
   ]
  },
  {
   "cell_type": "code",
   "execution_count": 88,
   "metadata": {
    "scrolled": true
   },
   "outputs": [
    {
     "data": {
      "image/png": "[encoded data removed]",
      "text/plain": [
       "<Figure size 800x600 with 1 Axes>"
      ]
     },
     "metadata": {},
     "output_type": "display_data"
    }
   ],
   "source": [
    "plt.figure(figsize=(8, 6))\n",
    "\n",
    "# grouping data and plotting\n",
    "(total_rev_per_user\n",
    " .groupby('plan')['revenue_usd']\n",
    " .plot(kind='hist', bins=20, alpha=0.5, legend=True))\n",
    "\n",
    "# plotting data\n",
    "plt.xlabel('Revenue Per User')\n",
    "plt.ylabel('Frequency')\n",
    "plt.title('Total Revenue Per User: Surf vs. Ultimate')\n",
    "plt.legend(['Surf', 'Ultimate'], loc='upper right')\n",
    "plt.show()"
   ]
  },
  {
   "cell_type": "markdown",
   "metadata": {},
   "source": [
    "Here's an interpretation of the histogram:\n",
    "\n",
    "    - The majority of Surf plan users fall into the lower revenue brackets, with a very high frequency of \n",
    "    users generating revenue in the lowest bracket (close to 0 dollars).\n",
    "\n",
    "    - The distribution for Surf plan users tapers off as revenue per user increases, indicating fewer \n",
    "    users contribute to higher revenue brackets.\n",
    "\n",
    "    - The distribution for Ultimate plan users is more evenly spread across different revenue brackets, although it also shows a higher concentration in lower revenue brackets. However, the frequency of users \n",
    "    in higher revenue brackets is more substantial compared to the Surf plan.\n",
    "\n",
    "    - There's a notable overlap in the middle revenue brackets, where both Surf and Ultimate plan users contribute to the revenue, but the Surf plan has a more significant number of users in the lowest bracket, \n",
    "    and the Ultimate plan has more users in the higher revenue brackets.\n",
    "\n",
    "This histogram suggests that while more Surf users contribute to lower revenue brackets, Ultimate users tend to generate more revenue on average per user. This could imply that the Ultimate plan may have a higher subscription cost or that Ultimate users purchase more additional services leading to higher individual revenue."
   ]
  },
  {
   "cell_type": "code",
   "execution_count": 89,
   "metadata": {},
   "outputs": [
    {
     "data": {
      "text/html": [
       "<div>\n",
       "<style scoped>\n",
       "    .dataframe tbody tr th:only-of-type {\n",
       "        vertical-align: middle;\n",
       "    }\n",
       "\n",
       "    .dataframe tbody tr th {\n",
       "        vertical-align: top;\n",
       "    }\n",
       "\n",
       "    .dataframe thead tr th {\n",
       "        text-align: left;\n",
       "    }\n",
       "\n",
       "    .dataframe thead tr:last-of-type th {\n",
       "        text-align: right;\n",
       "    }\n",
       "</style>\n",
       "<table border=\"1\" class=\"dataframe\">\n",
       "  <thead>\n",
       "    <tr>\n",
       "      <th></th>\n",
       "      <th colspan=\"3\" halign=\"left\">total_overages_dollars</th>\n",
       "    </tr>\n",
       "    <tr>\n",
       "      <th></th>\n",
       "      <th>mean</th>\n",
       "      <th>var</th>\n",
       "      <th>std</th>\n",
       "    </tr>\n",
       "    <tr>\n",
       "      <th>plan</th>\n",
       "      <th></th>\n",
       "      <th></th>\n",
       "      <th></th>\n",
       "    </tr>\n",
       "  </thead>\n",
       "  <tbody>\n",
       "    <tr>\n",
       "      <th>surf</th>\n",
       "      <td>5212.298854</td>\n",
       "      <td>2.555393e+07</td>\n",
       "      <td>5055.089146</td>\n",
       "    </tr>\n",
       "    <tr>\n",
       "      <th>ultimate</th>\n",
       "      <td>133.870443</td>\n",
       "      <td>1.815214e+04</td>\n",
       "      <td>134.729889</td>\n",
       "    </tr>\n",
       "  </tbody>\n",
       "</table>\n",
       "</div>"
      ],
      "text/plain": [
       "         total_overages_dollars                           \n",
       "                           mean           var          std\n",
       "plan                                                      \n",
       "surf                5212.298854  2.555393e+07  5055.089146\n",
       "ultimate             133.870443  1.815214e+04   134.729889"
      ]
     },
     "execution_count": 89,
     "metadata": {},
     "output_type": "execute_result"
    }
   ],
   "source": [
    "# pulling up descriptive statistics of revenue per customer\n",
    "monthly_overages = total_monthly_usage.groupby(['month', 'plan'])['total_overages_dollars'].sum().reset_index()\n",
    "monthly_overages.groupby('plan').agg({'total_overages_dollars': ['mean', 'var', 'std']})"
   ]
  },
  {
   "cell_type": "code",
   "execution_count": 90,
   "metadata": {
    "scrolled": false
   },
   "outputs": [
    {
     "data": {
      "image/png": "[encoded data removed]",
      "text/plain": [
       "<Figure size 1200x600 with 2 Axes>"
      ]
     },
     "metadata": {},
     "output_type": "display_data"
    }
   ],
   "source": [
    "# creating separate dataframes for each plan\n",
    "monthly_overages_surf = monthly_overages[monthly_overages['plan'] == 'surf']\n",
    "monthly_overages_ult = monthly_overages[monthly_overages['plan'] == 'ultimate']\n",
    "\n",
    "\n",
    "# finding the maximum revenue value between the two datasets for consistent y-axis limits\n",
    "max_revenue = max(monthly_overages_surf['total_overages_dollars'].max(), monthly_overages_ult['total_overages_dollars'].max())\n",
    "\n",
    "# Creating subplots\n",
    "fig, axes = plt.subplots(nrows=1, ncols=2, figsize=(12, 6))\n",
    "\n",
    "# Plot for Surf plan\n",
    "monthly_overages_surf.plot(kind='bar', x='month', y='total_overages_dollars',\n",
    "                           ax=axes[0], title='Surf Plan Overages', legend=False, rot=50)\n",
    "axes[0].set_xlabel('Month')\n",
    "axes[0].set_ylabel('Revenue (dollars)')\n",
    "axes[0].set_ylim(0, max_revenue)  # Set the y-axis limit\n",
    "\n",
    "# Plot for Ultimate plan\n",
    "monthly_overages_ult.plot(kind='bar', x='month', y='total_overages_dollars', color='orange',\n",
    "                          ax=axes[1], title='Ultimate Plan Overages', legend=False, rot=50)\n",
    "axes[1].set_xlabel('Month')\n",
    "axes[1].set_ylabel('Revenue (dollars)')\n",
    "axes[1].set_ylim(0, max_revenue)  # Set the y-axis limit\n",
    "\n",
    "# Display the plots\n",
    "plt.tight_layout()\n",
    "plt.show()\n",
    "\n",
    "\n"
   ]
  },
  {
   "cell_type": "markdown",
   "metadata": {},
   "source": [
    "For the Surf Plan Overages (left graph):\n",
    "\n",
    "    - There is a clear upward trend in overage revenue throughout the year, with the most significant \n",
    "    increase starting in July (2018-07) and peaking in December (2018-12).\n",
    "\n",
    "    - This suggests that users on the Surf plan are increasingly exceeding their plan limits as the \n",
    "    year progresses, leading to higher overage charges.\n",
    "\n",
    "For the Ultimate Plan Overages (right graph):\n",
    "\n",
    "    - The revenue from overage charges is relatively minimal and consistent throughout the year.\n",
    "\n",
    "    - There is a slight increase in overage revenue in December (2018-12), but it is not as pronounced as \n",
    "    with the Surf plan.\n",
    "\n",
    "Overall, the Surf plan seems to generate significantly more revenue from overage charges compared to the Ultimate plan. This could indicate that the Surf plan has tighter limits on usage or that its users are more prone to exceeding their plan limits, resulting in more frequent or higher overage fees. In contrast, Ultimate plan users either tend to stay within their usage limits, or the plan may offer more generous limits, resulting in fewer overage charges."
   ]
  },
  {
   "cell_type": "code",
   "execution_count": 92,
   "metadata": {},
   "outputs": [
    {
     "name": "stdout",
     "output_type": "stream",
     "text": [
      "Percentage of revenue due to overages for Surf Plan: 66.53%\n",
      "Percentage of revenue due to overages for Ultimate Plan: 3.09%\n"
     ]
    }
   ],
   "source": [
    "monthly_overages\n",
    "# Calculate and print the percentage of revenue due to overages for Surf Plan\n",
    "print(f\"Percentage of revenue due to overages for Surf Plan: \"\n",
    "      f\"{(monthly_overages['surf'].sum() / total_monthly_rev[total_monthly_rev['plan'] == 'surf']['revenue_usd'].sum() * 100):.2f}%\")\n",
    "\n",
    "# Calculate and print the percentage of revenue due to overages for Ultimate Plan\n",
    "print(f\"Percentage of revenue due to overages for Ultimate Plan: \"\n",
    "      f\"{(monthly_overages['ultimate'].sum() /  total_monthly_rev[total_monthly_rev['plan'] == 'ultimate']['revenue_usd'].sum() * 100):.2f}%\")\n"
   ]
  },
  {
   "cell_type": "markdown",
   "metadata": {},
   "source": [
    " "
   ]
  },
  {
   "cell_type": "markdown",
   "metadata": {},
   "source": [
    "# Testing Statistical Hypotheses <a id = 'test'></a>"
   ]
  },
  {
   "cell_type": "markdown",
   "metadata": {},
   "source": [
    "<div class=\"alert alert-info\" role=\"alert\">\n",
    "<b>Hypotheses:</b>\n",
    "    \n",
    "\n",
    "    \n",
    "    H0: The average revenue per user for the Surf and Ultimate plans are equal to each other. \n",
    "    H1: The average revenue per user for the Surf and Ultimate plans are not equal to each other.   \n",
    "    \n"
   ]
  },
  {
   "cell_type": "code",
   "execution_count": 93,
   "metadata": {},
   "outputs": [
    {
     "name": "stdout",
     "output_type": "stream",
     "text": [
      "Mean revenue per user for Surf Plan: $59.76\n",
      "Mean revenue per user for Ultimate Plan: $72.23\n"
     ]
    }
   ],
   "source": [
    "# Calculate the mean revenue per user for each plan using a groupby operation\n",
    "mean_revenue_per_plan = total_monthly_usage.groupby('plan')['revenue_usd'].mean()\n",
    "\n",
    "# Print the mean revenue per user for both plans\n",
    "print(f\"Mean revenue per user for Surf Plan: ${mean_revenue_per_plan['surf']:.2f}\")\n",
    "print(f\"Mean revenue per user for Ultimate Plan: ${mean_revenue_per_plan['ultimate']:.2f}\")\n"
   ]
  },
  {
   "cell_type": "code",
   "execution_count": 94,
   "metadata": {},
   "outputs": [
    {
     "ename": "NameError",
     "evalue": "name 'rev_per_user_surf' is not defined",
     "output_type": "error",
     "traceback": [
      "\u001b[0;31m---------------------------------------------------------------------------\u001b[0m",
      "\u001b[0;31mNameError\u001b[0m                                 Traceback (most recent call last)",
      "Cell \u001b[0;32mIn[94], line 6\u001b[0m\n\u001b[1;32m      1\u001b[0m \u001b[38;5;66;03m# Test the hypotheses\u001b[39;00m\n\u001b[1;32m      4\u001b[0m p \u001b[38;5;241m=\u001b[39m \u001b[38;5;241m.01\u001b[39m\n\u001b[0;32m----> 6\u001b[0m results \u001b[38;5;241m=\u001b[39m st\u001b[38;5;241m.\u001b[39mttest_ind(\u001b[43mrev_per_user_surf\u001b[49m, rev_per_user_ult, equal_var \u001b[38;5;241m=\u001b[39m \u001b[38;5;28;01mFalse\u001b[39;00m)\n\u001b[1;32m      8\u001b[0m \u001b[38;5;28mprint\u001b[39m(\u001b[38;5;124m'\u001b[39m\u001b[38;5;124mP-Value:\u001b[39m\u001b[38;5;124m'\u001b[39m, results\u001b[38;5;241m.\u001b[39mpvalue)\n\u001b[1;32m     10\u001b[0m \u001b[38;5;28;01mif\u001b[39;00m results\u001b[38;5;241m.\u001b[39mpvalue \u001b[38;5;241m<\u001b[39m p:\n",
      "\u001b[0;31mNameError\u001b[0m: name 'rev_per_user_surf' is not defined"
     ]
    }
   ],
   "source": [
    "# Test the hypotheses\n",
    "\n",
    "\n",
    "p = .01\n",
    "\n",
    "results = st.ttest_ind(rev_per_user_surf, rev_per_user_ult, equal_var = False)\n",
    "\n",
    "print('P-Value:', results.pvalue)\n",
    "\n",
    "if results.pvalue < p:\n",
    "    print('We reject the null hypothesis.')\n",
    "else:\n",
    "    print('We cannot reject the null hypothesis.')"
   ]
  },
  {
   "cell_type": "markdown",
   "metadata": {},
   "source": [
    "We reject the null hypothesis. This indicates that there is a significant difference in the mean's between these populations that needs to be explored further. \n",
    "\n",
    "\n"
   ]
  },
  {
   "cell_type": "markdown",
   "metadata": {},
   "source": [
    "<div class=\"alert alert-info\"> \n",
    "<b>Hypotheses:</b> \n",
    "\n",
    "     H0: The average revenue for each user from NY-NJ is equal to user from other areas. \n",
    "     H1: The average revenue for each user from NY-NJ is not equal to revenue from users in other regions. \n",
    "\n",
    "\n",
    "</div>"
   ]
  },
  {
   "cell_type": "code",
   "execution_count": 95,
   "metadata": {},
   "outputs": [
    {
     "name": "stderr",
     "output_type": "stream",
     "text": [
      "/Users/kevinklev/opt/anaconda3/lib/python3.9/site-packages/pandas/core/reshape/merge.py:916: FutureWarning: In a future version, the Index constructor will not infer numeric dtypes when passed object-dtype sequences (matching Series behavior)\n",
      "  key_col = Index(lvals).where(~mask_left, rvals)\n"
     ]
    }
   ],
   "source": [
    "# merging user demographic data with monthly usage data for testing \n",
    "geo_behavior = total_monthly_usage.merge(users_df[['user_id', 'city']], how = 'outer', on = 'user_id')\n",
    "\n",
    "# separating dataframes by customer location\n",
    "NY_NJ_users_rev = geo_behavior[geo_behavior['city'] =='New York-Newark-Jersey City, NY-NJ-PA MSA']['revenue_usd']\n",
    "non_NY_NJ_rev = geo_behavior[geo_behavior['city'] != 'New York-Newark-Jersey City, NY-NJ-PA MSA']['revenue_usd']"
   ]
  },
  {
   "cell_type": "code",
   "execution_count": 96,
   "metadata": {},
   "outputs": [
    {
     "name": "stdout",
     "output_type": "stream",
     "text": [
      "Average monthly revenue of customers in New York-New Jersey State MSA: $59.22\n",
      "Average monthly revenue of customers NOT in New York-New Jersey State MSA: $64.56\n"
     ]
    }
   ],
   "source": [
    "# identifying averages of both user groups\n",
    "print(f'Average monthly revenue of customers in New York-New Jersey State MSA: ${NY_NJ_users_rev.mean():.2f}')\n",
    "print(f'Average monthly revenue of customers NOT in New York-New Jersey State MSA: ${non_NY_NJ_rev.mean():.2f}')"
   ]
  },
  {
   "cell_type": "code",
   "execution_count": 97,
   "metadata": {},
   "outputs": [
    {
     "name": "stdout",
     "output_type": "stream",
     "text": [
      "P-Value: nan\n",
      "We cannot reject the null hypothesis\n"
     ]
    }
   ],
   "source": [
    "# Test the hypotheses\n",
    "\n",
    "target_value = non_NY_NJ_rev.mean()\n",
    "\n",
    "alpha_1 = .05 \n",
    "\n",
    "results_1 = st.ttest_1samp(NY_NJ_users_rev, target_value)\n",
    "\n",
    "print('P-Value:', results_1.pvalue)\n",
    "\n",
    "if results_1.pvalue < alpha_1:\n",
    "    print('We reject the null hypothesis')\n",
    "else:\n",
    "    print('We cannot reject the null hypothesis')\n",
    "\n"
   ]
  },
  {
   "cell_type": "markdown",
   "metadata": {},
   "source": [
    "After running this test, we cannot reject the null hypothesis. There is no significance in the difference between those in the NY-NJ MSA and customers in other regions. \n"
   ]
  },
  {
   "cell_type": "markdown",
   "metadata": {},
   "source": [
    "## Conclusion <a id = 'end'></a>\n",
    "\n"
   ]
  },
  {
   "cell_type": "markdown",
   "metadata": {},
   "source": [
    " "
   ]
  },
  {
   "cell_type": "markdown",
   "metadata": {},
   "source": [
    "Upon analyzing user behavior in relation to messaging, data consumption, and call duration, we observe negligible variances in usage patterns when contrasting the Surf and Ultimate plans. Minor monthly fluctuations are present, but the selection of the plan appears to have a marginal impact on consumer behavior.\n",
    "\n",
    "Financially, the Ultimate plan's users contribute more revenue on average compared to those on the Surf plan. This is likely due to the greater number of subscribers associated with the Surf plan, which typically correlates with increased revenue generation. Approximately 97% of the revenue from the Ultimate plan is derived from its base fee, while around 70% of the Surf plan's revenue is accrued from overage charges. Although the total revenue from the Surf plan is higher, the Ultimate plan yields a greater revenue per user, offering more predictable and stable financial returns.\n",
    "\n",
    "In conclusion, it is advisable for the company to focus its marketing efforts on promoting the Ultimate plan. The existing disparity in revenue is largely a result of the higher user base for the Surf plan. By increasing the subscriber count for the Ultimate plan, the company could potentially realize an enhanced and more reliable revenue stream.\n",
    "    \n",
    "\n"
   ]
  }
 ],
 "metadata": {
  "ExecuteTimeLog": [
   {
    "duration": 828,
    "start_time": "2021-11-16T09:21:11.304Z"
   },
   {
    "duration": 893,
    "start_time": "2021-11-16T09:21:17.728Z"
   },
   {
    "duration": 1150,
    "start_time": "2021-11-16T09:21:29.568Z"
   },
   {
    "duration": 3,
    "start_time": "2021-11-16T09:24:14.495Z"
   },
   {
    "duration": 120,
    "start_time": "2021-11-16T09:24:46.630Z"
   },
   {
    "duration": 3,
    "start_time": "2021-11-16T09:28:27.882Z"
   },
   {
    "duration": 4,
    "start_time": "2021-11-16T09:29:54.281Z"
   },
   {
    "duration": 3,
    "start_time": "2021-11-16T09:30:45.936Z"
   },
   {
    "duration": 4,
    "start_time": "2021-11-16T09:31:06.300Z"
   },
   {
    "duration": 113,
    "start_time": "2021-11-16T09:31:37.208Z"
   },
   {
    "duration": 143,
    "start_time": "2021-11-16T09:31:48.656Z"
   },
   {
    "duration": 98,
    "start_time": "2021-11-16T09:31:55.678Z"
   },
   {
    "duration": 3,
    "start_time": "2021-11-16T09:32:08.535Z"
   },
   {
    "duration": 111,
    "start_time": "2021-11-16T09:32:10.120Z"
   },
   {
    "duration": 3,
    "start_time": "2021-11-16T09:32:15.732Z"
   },
   {
    "duration": 4,
    "start_time": "2021-11-16T09:32:29.423Z"
   },
   {
    "duration": 3,
    "start_time": "2021-11-16T10:03:03.074Z"
   },
   {
    "duration": 3,
    "start_time": "2021-11-16T10:10:01.288Z"
   },
   {
    "duration": 3,
    "start_time": "2021-11-16T10:10:46.923Z"
   },
   {
    "duration": 121,
    "start_time": "2021-11-16T10:37:46.494Z"
   },
   {
    "duration": 125,
    "start_time": "2021-11-16T10:38:20.632Z"
   },
   {
    "duration": 112,
    "start_time": "2021-11-16T10:46:53.001Z"
   },
   {
    "duration": 110,
    "start_time": "2021-11-16T10:48:25.775Z"
   },
   {
    "duration": 3,
    "start_time": "2021-11-16T10:50:18.720Z"
   },
   {
    "duration": 4,
    "start_time": "2021-11-16T10:50:37.649Z"
   },
   {
    "duration": 2,
    "start_time": "2021-11-16T10:50:51.884Z"
   },
   {
    "duration": 3,
    "start_time": "2021-11-16T10:51:56.237Z"
   },
   {
    "duration": 101,
    "start_time": "2021-11-16T10:53:13.791Z"
   },
   {
    "duration": 3,
    "start_time": "2021-11-16T10:55:59.186Z"
   },
   {
    "duration": 3,
    "start_time": "2021-11-16T10:56:10.751Z"
   },
   {
    "duration": 3,
    "start_time": "2021-11-16T10:56:49.038Z"
   },
   {
    "duration": 3,
    "start_time": "2021-11-16T10:56:49.174Z"
   },
   {
    "duration": 4,
    "start_time": "2021-11-16T10:56:49.414Z"
   },
   {
    "duration": 3,
    "start_time": "2021-11-16T10:56:49.680Z"
   },
   {
    "duration": 3,
    "start_time": "2021-11-16T10:56:50.370Z"
   },
   {
    "duration": 114,
    "start_time": "2021-11-16T10:59:34.518Z"
   },
   {
    "duration": 3,
    "start_time": "2021-11-16T11:01:41.201Z"
   },
   {
    "duration": 116,
    "start_time": "2021-11-16T11:01:48.754Z"
   },
   {
    "duration": 3,
    "start_time": "2021-11-16T11:02:16.685Z"
   },
   {
    "duration": 3,
    "start_time": "2021-11-16T11:02:19.479Z"
   },
   {
    "duration": 3,
    "start_time": "2021-11-16T11:02:47.067Z"
   },
   {
    "duration": 3,
    "start_time": "2021-11-16T11:02:49.353Z"
   },
   {
    "duration": 3,
    "start_time": "2021-11-16T11:03:07.835Z"
   },
   {
    "duration": 3,
    "start_time": "2021-11-16T11:03:07.953Z"
   },
   {
    "duration": 112,
    "start_time": "2021-11-16T11:07:52.072Z"
   },
   {
    "duration": 187,
    "start_time": "2021-11-16T11:09:23.468Z"
   },
   {
    "duration": 4,
    "start_time": "2021-11-16T11:10:01.455Z"
   },
   {
    "duration": 3,
    "start_time": "2021-11-16T11:10:05.069Z"
   },
   {
    "duration": 4,
    "start_time": "2021-11-16T11:10:13.376Z"
   },
   {
    "duration": 3,
    "start_time": "2021-11-16T11:10:14.434Z"
   },
   {
    "duration": 3,
    "start_time": "2021-11-16T11:10:22.853Z"
   },
   {
    "duration": 4,
    "start_time": "2021-11-16T11:27:29.279Z"
   },
   {
    "duration": 4,
    "start_time": "2021-11-16T11:29:08.919Z"
   },
   {
    "duration": 118,
    "start_time": "2021-11-16T11:29:46.703Z"
   },
   {
    "duration": 437,
    "start_time": "2021-11-16T11:36:02.181Z"
   },
   {
    "duration": 157,
    "start_time": "2021-11-16T11:36:14.388Z"
   },
   {
    "duration": 207,
    "start_time": "2021-11-16T11:47:15.898Z"
   },
   {
    "duration": 3,
    "start_time": "2021-11-16T11:53:52.092Z"
   },
   {
    "duration": 3,
    "start_time": "2021-11-16T11:53:52.236Z"
   },
   {
    "duration": 3,
    "start_time": "2021-11-16T11:59:12.005Z"
   },
   {
    "duration": 112,
    "start_time": "2021-11-16T12:00:33.446Z"
   },
   {
    "duration": 3,
    "start_time": "2021-11-16T12:02:14.453Z"
   },
   {
    "duration": 3,
    "start_time": "2021-11-16T12:02:39.512Z"
   },
   {
    "duration": 106,
    "start_time": "2021-11-16T12:03:03.460Z"
   },
   {
    "duration": 3,
    "start_time": "2021-11-17T20:37:21.139Z"
   },
   {
    "duration": 3,
    "start_time": "2021-11-17T20:37:22.229Z"
   },
   {
    "duration": 3,
    "start_time": "2021-11-17T20:38:38.806Z"
   },
   {
    "duration": 3,
    "start_time": "2021-11-17T20:38:41.958Z"
   },
   {
    "duration": 3,
    "start_time": "2021-11-17T20:43:46.551Z"
   },
   {
    "duration": 4,
    "start_time": "2021-11-17T20:58:21.835Z"
   },
   {
    "duration": 3,
    "start_time": "2021-11-17T20:59:21.872Z"
   },
   {
    "duration": 4,
    "start_time": "2021-11-17T20:59:45.352Z"
   },
   {
    "duration": 4,
    "start_time": "2021-11-17T20:59:49.646Z"
   },
   {
    "duration": 159,
    "start_time": "2021-11-17T21:02:26.949Z"
   },
   {
    "duration": 3,
    "start_time": "2021-11-17T21:03:53.461Z"
   },
   {
    "duration": 3,
    "start_time": "2021-11-17T21:03:53.694Z"
   },
   {
    "duration": 3,
    "start_time": "2021-11-17T21:05:28.145Z"
   },
   {
    "duration": 116,
    "start_time": "2021-11-17T21:05:57.787Z"
   },
   {
    "duration": 3,
    "start_time": "2021-11-17T21:06:37.993Z"
   },
   {
    "duration": 3,
    "start_time": "2021-11-17T21:06:38.261Z"
   },
   {
    "duration": 3,
    "start_time": "2021-11-17T21:11:54.358Z"
   },
   {
    "duration": 3,
    "start_time": "2021-11-17T21:12:43.846Z"
   },
   {
    "duration": 4,
    "start_time": "2021-11-17T21:13:08.773Z"
   },
   {
    "duration": 3,
    "start_time": "2021-11-17T21:14:44.441Z"
   },
   {
    "duration": 3,
    "start_time": "2021-11-17T21:15:42.059Z"
   },
   {
    "duration": 4,
    "start_time": "2021-11-17T21:15:51.995Z"
   },
   {
    "duration": 3,
    "start_time": "2021-11-17T21:15:53.923Z"
   },
   {
    "duration": 3,
    "start_time": "2021-11-17T21:15:55.282Z"
   },
   {
    "duration": 3,
    "start_time": "2021-11-17T21:16:28.492Z"
   },
   {
    "duration": 3,
    "start_time": "2021-11-17T21:16:32.603Z"
   },
   {
    "duration": 3,
    "start_time": "2021-11-17T21:17:06.941Z"
   },
   {
    "duration": 98,
    "start_time": "2021-11-17T21:18:05.733Z"
   },
   {
    "duration": 4,
    "start_time": "2021-11-17T21:21:35.255Z"
   },
   {
    "duration": 3,
    "start_time": "2021-11-17T21:21:37.804Z"
   },
   {
    "duration": 4,
    "start_time": "2021-11-17T21:23:06.071Z"
   },
   {
    "duration": 3,
    "start_time": "2021-11-17T21:23:24.799Z"
   },
   {
    "duration": 3,
    "start_time": "2021-11-17T21:23:32.591Z"
   },
   {
    "duration": 98,
    "start_time": "2021-11-17T21:28:31.559Z"
   },
   {
    "duration": 3,
    "start_time": "2021-11-17T21:28:45.448Z"
   },
   {
    "duration": 3,
    "start_time": "2021-11-17T21:29:17.303Z"
   },
   {
    "duration": 3,
    "start_time": "2021-11-17T21:29:29.617Z"
   },
   {
    "duration": 3,
    "start_time": "2021-11-17T21:29:32.681Z"
   },
   {
    "duration": 3,
    "start_time": "2021-11-17T21:36:11.474Z"
   },
   {
    "duration": 3,
    "start_time": "2021-11-17T21:36:14.791Z"
   },
   {
    "duration": 3,
    "start_time": "2021-11-17T21:36:53.943Z"
   },
   {
    "duration": 3,
    "start_time": "2021-11-17T21:36:56.165Z"
   },
   {
    "duration": 4,
    "start_time": "2021-11-17T21:37:16.590Z"
   },
   {
    "duration": 3,
    "start_time": "2021-11-17T21:37:22.702Z"
   },
   {
    "duration": 4,
    "start_time": "2021-11-17T21:38:03.479Z"
   },
   {
    "duration": 3,
    "start_time": "2021-11-17T21:38:08.601Z"
   },
   {
    "duration": 3,
    "start_time": "2021-11-17T21:38:12.928Z"
   },
   {
    "duration": 3,
    "start_time": "2021-11-17T21:38:48.896Z"
   },
   {
    "duration": 2,
    "start_time": "2021-11-17T21:38:49.171Z"
   },
   {
    "duration": 4,
    "start_time": "2021-11-17T21:39:57.889Z"
   },
   {
    "duration": 3,
    "start_time": "2021-11-17T21:39:58.057Z"
   },
   {
    "duration": 3,
    "start_time": "2021-11-17T21:41:20.108Z"
   },
   {
    "duration": 3,
    "start_time": "2021-11-17T21:41:20.629Z"
   },
   {
    "duration": 3,
    "start_time": "2021-11-17T21:42:49.136Z"
   },
   {
    "duration": 3,
    "start_time": "2021-11-17T21:43:15.137Z"
   },
   {
    "duration": 4,
    "start_time": "2021-11-17T21:43:16.766Z"
   },
   {
    "duration": 4,
    "start_time": "2021-11-17T21:43:31.711Z"
   },
   {
    "duration": 3,
    "start_time": "2021-11-17T21:43:36.312Z"
   },
   {
    "duration": 4,
    "start_time": "2021-11-17T21:45:08.825Z"
   },
   {
    "duration": 4,
    "start_time": "2021-11-17T21:45:10.119Z"
   },
   {
    "duration": 4,
    "start_time": "2021-11-17T21:45:13.748Z"
   },
   {
    "duration": 3,
    "start_time": "2021-11-17T21:45:22.219Z"
   },
   {
    "duration": 3,
    "start_time": "2021-11-17T21:45:33.412Z"
   },
   {
    "duration": 2,
    "start_time": "2021-11-17T21:46:01.885Z"
   },
   {
    "duration": 3,
    "start_time": "2021-11-17T21:46:03.628Z"
   },
   {
    "duration": 107,
    "start_time": "2021-11-17T21:47:32.512Z"
   },
   {
    "duration": 103,
    "start_time": "2021-11-17T21:50:36.243Z"
   },
   {
    "duration": 3,
    "start_time": "2021-11-18T06:28:31.440Z"
   },
   {
    "duration": 3,
    "start_time": "2021-11-18T06:29:00.168Z"
   },
   {
    "duration": 3,
    "start_time": "2021-11-18T06:31:27.008Z"
   },
   {
    "duration": 2,
    "start_time": "2021-11-18T06:35:34.288Z"
   },
   {
    "duration": 2,
    "start_time": "2021-11-18T06:38:04.527Z"
   }
  ],
  "kernelspec": {
   "display_name": "Python 3 (ipykernel)",
   "language": "python",
   "name": "python3"
  },
  "language_info": {
   "codemirror_mode": {
    "name": "ipython",
    "version": 3
   },
   "file_extension": ".py",
   "mimetype": "text/x-python",
   "name": "python",
   "nbconvert_exporter": "python",
   "pygments_lexer": "ipython3",
   "version": "3.9.12"
  },
  "toc": {
   "base_numbering": 1,
   "nav_menu": {},
   "number_sections": true,
   "sideBar": true,
   "skip_h1_title": false,
   "title_cell": "Table of Contents",
   "title_sidebar": "Contents",
   "toc_cell": false,
   "toc_position": {
    "height": "calc(100% - 180px)",
    "left": "10px",
    "top": "150px",
    "width": "202.786px"
   },
   "toc_section_display": true,
   "toc_window_display": false
  }
 },
 "nbformat": 4,
 "nbformat_minor": 2
}
